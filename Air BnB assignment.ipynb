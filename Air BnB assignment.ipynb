{
 "cells": [
  {
   "cell_type": "code",
   "execution_count": 1,
   "metadata": {},
   "outputs": [],
   "source": [
    "import pandas as pd\n",
    "import numpy as np\n",
    "import seaborn as sns\n",
    "import matplotlib.pyplot as plt"
   ]
  },
  {
   "cell_type": "markdown",
   "metadata": {},
   "source": [
    "###  1. You need to help the management decide upon a minimum number of images to be made mandatory for a listing that would ensure bookings. \n",
    "### 2. Also, come up with an optimal number of images that we can suggest the host to post along with a listing that would attract the most bookings and ensure success. \n"
   ]
  },
  {
   "cell_type": "code",
   "execution_count": 2,
   "metadata": {},
   "outputs": [],
   "source": [
    "listings = pd.read_csv('Listings.csv')\n",
    "open_listings = pd.read_csv('Open_Listings.csv')\n",
    "redundant_listings = pd.read_csv('Redundant_Listings.csv')"
   ]
  },
  {
   "cell_type": "code",
   "execution_count": 3,
   "metadata": {},
   "outputs": [
    {
     "data": {
      "text/html": [
       "<div>\n",
       "<style scoped>\n",
       "    .dataframe tbody tr th:only-of-type {\n",
       "        vertical-align: middle;\n",
       "    }\n",
       "\n",
       "    .dataframe tbody tr th {\n",
       "        vertical-align: top;\n",
       "    }\n",
       "\n",
       "    .dataframe thead th {\n",
       "        text-align: right;\n",
       "    }\n",
       "</style>\n",
       "<table border=\"1\" class=\"dataframe\">\n",
       "  <thead>\n",
       "    <tr style=\"text-align: right;\">\n",
       "      <th></th>\n",
       "      <th>Listing_Id</th>\n",
       "      <th>Posting_Date</th>\n",
       "      <th>Posting_Time</th>\n",
       "      <th>Location</th>\n",
       "      <th>Images</th>\n",
       "      <th>Bookings</th>\n",
       "      <th>Host_Type</th>\n",
       "    </tr>\n",
       "  </thead>\n",
       "  <tbody>\n",
       "    <tr>\n",
       "      <th>0</th>\n",
       "      <td>4955430</td>\n",
       "      <td>13/05/2019</td>\n",
       "      <td>20:18:13</td>\n",
       "      <td>San Francisco</td>\n",
       "      <td>31</td>\n",
       "      <td>10</td>\n",
       "      <td>Regular</td>\n",
       "    </tr>\n",
       "    <tr>\n",
       "      <th>1</th>\n",
       "      <td>3338094</td>\n",
       "      <td>04/01/2016</td>\n",
       "      <td>05:30:37</td>\n",
       "      <td>Amsterdam</td>\n",
       "      <td>6</td>\n",
       "      <td>48</td>\n",
       "      <td>Regular</td>\n",
       "    </tr>\n",
       "    <tr>\n",
       "      <th>2</th>\n",
       "      <td>3132720</td>\n",
       "      <td>24/12/2018</td>\n",
       "      <td>12:26:15</td>\n",
       "      <td>Barcelona</td>\n",
       "      <td>25</td>\n",
       "      <td>10</td>\n",
       "      <td>Regular</td>\n",
       "    </tr>\n",
       "    <tr>\n",
       "      <th>3</th>\n",
       "      <td>3196344</td>\n",
       "      <td>14/10/2014</td>\n",
       "      <td>15:09:27</td>\n",
       "      <td>Berlin</td>\n",
       "      <td>10</td>\n",
       "      <td>134</td>\n",
       "      <td>Superhost</td>\n",
       "    </tr>\n",
       "    <tr>\n",
       "      <th>4</th>\n",
       "      <td>4588846</td>\n",
       "      <td>21/07/2016</td>\n",
       "      <td>09:26:48</td>\n",
       "      <td>Brussels</td>\n",
       "      <td>4</td>\n",
       "      <td>7</td>\n",
       "      <td>Regular</td>\n",
       "    </tr>\n",
       "  </tbody>\n",
       "</table>\n",
       "</div>"
      ],
      "text/plain": [
       "   Listing_Id Posting_Date Posting_Time       Location  Images  Bookings  \\\n",
       "0     4955430  13/05/2019      20:18:13  San Francisco      31        10   \n",
       "1     3338094  04/01/2016      05:30:37      Amsterdam       6        48   \n",
       "2     3132720  24/12/2018      12:26:15      Barcelona      25        10   \n",
       "3     3196344  14/10/2014      15:09:27         Berlin      10       134   \n",
       "4     4588846  21/07/2016      09:26:48       Brussels       4         7   \n",
       "\n",
       "   Host_Type  \n",
       "0    Regular  \n",
       "1    Regular  \n",
       "2    Regular  \n",
       "3  Superhost  \n",
       "4    Regular  "
      ]
     },
     "execution_count": 3,
     "metadata": {},
     "output_type": "execute_result"
    }
   ],
   "source": [
    "listings.head()"
   ]
  },
  {
   "cell_type": "code",
   "execution_count": 4,
   "metadata": {},
   "outputs": [
    {
     "data": {
      "text/html": [
       "<div>\n",
       "<style scoped>\n",
       "    .dataframe tbody tr th:only-of-type {\n",
       "        vertical-align: middle;\n",
       "    }\n",
       "\n",
       "    .dataframe tbody tr th {\n",
       "        vertical-align: top;\n",
       "    }\n",
       "\n",
       "    .dataframe thead th {\n",
       "        text-align: right;\n",
       "    }\n",
       "</style>\n",
       "<table border=\"1\" class=\"dataframe\">\n",
       "  <thead>\n",
       "    <tr style=\"text-align: right;\">\n",
       "      <th></th>\n",
       "      <th>Date</th>\n",
       "      <th>Open_Listings_0_2</th>\n",
       "      <th>Open_Listings_3_5</th>\n",
       "      <th>Open_Listings_6_10</th>\n",
       "      <th>Open_Listings_11_15</th>\n",
       "      <th>Open_Listings_16</th>\n",
       "    </tr>\n",
       "  </thead>\n",
       "  <tbody>\n",
       "    <tr>\n",
       "      <th>0</th>\n",
       "      <td>08/01/2018</td>\n",
       "      <td>51918</td>\n",
       "      <td>59583</td>\n",
       "      <td>9558</td>\n",
       "      <td>28830</td>\n",
       "      <td>38364</td>\n",
       "    </tr>\n",
       "    <tr>\n",
       "      <th>1</th>\n",
       "      <td>08/02/2018</td>\n",
       "      <td>50196</td>\n",
       "      <td>67897</td>\n",
       "      <td>10820</td>\n",
       "      <td>23024</td>\n",
       "      <td>31676</td>\n",
       "    </tr>\n",
       "    <tr>\n",
       "      <th>2</th>\n",
       "      <td>08/03/2018</td>\n",
       "      <td>56239</td>\n",
       "      <td>52148</td>\n",
       "      <td>24258</td>\n",
       "      <td>34328</td>\n",
       "      <td>7342</td>\n",
       "    </tr>\n",
       "    <tr>\n",
       "      <th>3</th>\n",
       "      <td>08/04/2018</td>\n",
       "      <td>57762</td>\n",
       "      <td>67057</td>\n",
       "      <td>15148</td>\n",
       "      <td>15531</td>\n",
       "      <td>23232</td>\n",
       "    </tr>\n",
       "    <tr>\n",
       "      <th>4</th>\n",
       "      <td>08/05/2018</td>\n",
       "      <td>59221</td>\n",
       "      <td>53113</td>\n",
       "      <td>18165</td>\n",
       "      <td>18387</td>\n",
       "      <td>8486</td>\n",
       "    </tr>\n",
       "  </tbody>\n",
       "</table>\n",
       "</div>"
      ],
      "text/plain": [
       "         Date  Open_Listings_0_2  Open_Listings_3_5  Open_Listings_6_10  \\\n",
       "0  08/01/2018              51918              59583                9558   \n",
       "1  08/02/2018              50196              67897               10820   \n",
       "2  08/03/2018              56239              52148               24258   \n",
       "3  08/04/2018              57762              67057               15148   \n",
       "4  08/05/2018              59221              53113               18165   \n",
       "\n",
       "   Open_Listings_11_15  Open_Listings_16  \n",
       "0                28830             38364  \n",
       "1                23024             31676  \n",
       "2                34328              7342  \n",
       "3                15531             23232  \n",
       "4                18387              8486  "
      ]
     },
     "execution_count": 4,
     "metadata": {},
     "output_type": "execute_result"
    }
   ],
   "source": [
    "open_listings.head()"
   ]
  },
  {
   "cell_type": "code",
   "execution_count": 5,
   "metadata": {},
   "outputs": [
    {
     "data": {
      "text/html": [
       "<div>\n",
       "<style scoped>\n",
       "    .dataframe tbody tr th:only-of-type {\n",
       "        vertical-align: middle;\n",
       "    }\n",
       "\n",
       "    .dataframe tbody tr th {\n",
       "        vertical-align: top;\n",
       "    }\n",
       "\n",
       "    .dataframe thead th {\n",
       "        text-align: right;\n",
       "    }\n",
       "</style>\n",
       "<table border=\"1\" class=\"dataframe\">\n",
       "  <thead>\n",
       "    <tr style=\"text-align: right;\">\n",
       "      <th></th>\n",
       "      <th>Property_Images</th>\n",
       "      <th>Total_Listings</th>\n",
       "      <th>Redundant_Listings</th>\n",
       "    </tr>\n",
       "  </thead>\n",
       "  <tbody>\n",
       "    <tr>\n",
       "      <th>0</th>\n",
       "      <td>0 to 2</td>\n",
       "      <td>563,246</td>\n",
       "      <td>428,368</td>\n",
       "    </tr>\n",
       "    <tr>\n",
       "      <th>1</th>\n",
       "      <td>3 to 5</td>\n",
       "      <td>716,923</td>\n",
       "      <td>264,321</td>\n",
       "    </tr>\n",
       "    <tr>\n",
       "      <th>2</th>\n",
       "      <td>6 to 10</td>\n",
       "      <td>1,341,164</td>\n",
       "      <td>98,874</td>\n",
       "    </tr>\n",
       "    <tr>\n",
       "      <th>3</th>\n",
       "      <td>11 to 15</td>\n",
       "      <td>993,269</td>\n",
       "      <td>53,292</td>\n",
       "    </tr>\n",
       "    <tr>\n",
       "      <th>4</th>\n",
       "      <td>15 to 20</td>\n",
       "      <td>873,269</td>\n",
       "      <td>61,382</td>\n",
       "    </tr>\n",
       "    <tr>\n",
       "      <th>5</th>\n",
       "      <td>21 to 25</td>\n",
       "      <td>635,481</td>\n",
       "      <td>29,285</td>\n",
       "    </tr>\n",
       "    <tr>\n",
       "      <th>6</th>\n",
       "      <td>26 to 30</td>\n",
       "      <td>498,456</td>\n",
       "      <td>42,473</td>\n",
       "    </tr>\n",
       "    <tr>\n",
       "      <th>7</th>\n",
       "      <td>&gt; 30</td>\n",
       "      <td>384,875</td>\n",
       "      <td>28,274</td>\n",
       "    </tr>\n",
       "  </tbody>\n",
       "</table>\n",
       "</div>"
      ],
      "text/plain": [
       "  Property_Images Total_Listings Redundant_Listings\n",
       "0          0 to 2        563,246            428,368\n",
       "1          3 to 5        716,923            264,321\n",
       "2         6 to 10      1,341,164             98,874\n",
       "3        11 to 15        993,269             53,292\n",
       "4        15 to 20        873,269             61,382\n",
       "5        21 to 25        635,481             29,285\n",
       "6        26 to 30        498,456             42,473\n",
       "7            > 30        384,875             28,274"
      ]
     },
     "execution_count": 5,
     "metadata": {},
     "output_type": "execute_result"
    }
   ],
   "source": [
    "redundant_listings = redundant_listings.drop(['Unnamed: 3','Unnamed: 4','Unnamed: 5','Unnamed: 6'],1)\n",
    "redundant_listings"
   ]
  },
  {
   "cell_type": "code",
   "execution_count": 6,
   "metadata": {},
   "outputs": [],
   "source": [
    "redundant_listings['Total_Listings'] = redundant_listings['Total_Listings'].apply(lambda x:int(x.replace(',','')))\n",
    "redundant_listings['Redundant_Listings'] = redundant_listings['Redundant_Listings'].apply(lambda x:int(x.replace(',','')))"
   ]
  },
  {
   "cell_type": "code",
   "execution_count": 7,
   "metadata": {},
   "outputs": [],
   "source": [
    "redundant_listings['percentage_of_bookings'] = (redundant_listings['Total_Listings']-redundant_listings['Redundant_Listings'])*100.0//redundant_listings['Total_Listings']"
   ]
  },
  {
   "cell_type": "code",
   "execution_count": 8,
   "metadata": {},
   "outputs": [
    {
     "data": {
      "text/html": [
       "<div>\n",
       "<style scoped>\n",
       "    .dataframe tbody tr th:only-of-type {\n",
       "        vertical-align: middle;\n",
       "    }\n",
       "\n",
       "    .dataframe tbody tr th {\n",
       "        vertical-align: top;\n",
       "    }\n",
       "\n",
       "    .dataframe thead th {\n",
       "        text-align: right;\n",
       "    }\n",
       "</style>\n",
       "<table border=\"1\" class=\"dataframe\">\n",
       "  <thead>\n",
       "    <tr style=\"text-align: right;\">\n",
       "      <th></th>\n",
       "      <th>Property_Images</th>\n",
       "      <th>Total_Listings</th>\n",
       "      <th>Redundant_Listings</th>\n",
       "      <th>percentage_of_bookings</th>\n",
       "    </tr>\n",
       "  </thead>\n",
       "  <tbody>\n",
       "    <tr>\n",
       "      <th>0</th>\n",
       "      <td>0 to 2</td>\n",
       "      <td>563246</td>\n",
       "      <td>428368</td>\n",
       "      <td>23.0</td>\n",
       "    </tr>\n",
       "    <tr>\n",
       "      <th>1</th>\n",
       "      <td>3 to 5</td>\n",
       "      <td>716923</td>\n",
       "      <td>264321</td>\n",
       "      <td>63.0</td>\n",
       "    </tr>\n",
       "    <tr>\n",
       "      <th>2</th>\n",
       "      <td>6 to 10</td>\n",
       "      <td>1341164</td>\n",
       "      <td>98874</td>\n",
       "      <td>92.0</td>\n",
       "    </tr>\n",
       "    <tr>\n",
       "      <th>3</th>\n",
       "      <td>11 to 15</td>\n",
       "      <td>993269</td>\n",
       "      <td>53292</td>\n",
       "      <td>94.0</td>\n",
       "    </tr>\n",
       "    <tr>\n",
       "      <th>4</th>\n",
       "      <td>15 to 20</td>\n",
       "      <td>873269</td>\n",
       "      <td>61382</td>\n",
       "      <td>92.0</td>\n",
       "    </tr>\n",
       "    <tr>\n",
       "      <th>5</th>\n",
       "      <td>21 to 25</td>\n",
       "      <td>635481</td>\n",
       "      <td>29285</td>\n",
       "      <td>95.0</td>\n",
       "    </tr>\n",
       "    <tr>\n",
       "      <th>6</th>\n",
       "      <td>26 to 30</td>\n",
       "      <td>498456</td>\n",
       "      <td>42473</td>\n",
       "      <td>91.0</td>\n",
       "    </tr>\n",
       "    <tr>\n",
       "      <th>7</th>\n",
       "      <td>&gt; 30</td>\n",
       "      <td>384875</td>\n",
       "      <td>28274</td>\n",
       "      <td>92.0</td>\n",
       "    </tr>\n",
       "  </tbody>\n",
       "</table>\n",
       "</div>"
      ],
      "text/plain": [
       "  Property_Images  Total_Listings  Redundant_Listings  percentage_of_bookings\n",
       "0          0 to 2          563246              428368                    23.0\n",
       "1          3 to 5          716923              264321                    63.0\n",
       "2         6 to 10         1341164               98874                    92.0\n",
       "3        11 to 15          993269               53292                    94.0\n",
       "4        15 to 20          873269               61382                    92.0\n",
       "5        21 to 25          635481               29285                    95.0\n",
       "6        26 to 30          498456               42473                    91.0\n",
       "7            > 30          384875               28274                    92.0"
      ]
     },
     "execution_count": 8,
     "metadata": {},
     "output_type": "execute_result"
    }
   ],
   "source": [
    "redundant_listings"
   ]
  },
  {
   "cell_type": "code",
   "execution_count": 34,
   "metadata": {},
   "outputs": [
    {
     "data": {
      "image/png": "[encoded data removed]",
      "text/plain": [
       "<Figure size 864x360 with 1 Axes>"
      ]
     },
     "metadata": {
      "needs_background": "light"
     },
     "output_type": "display_data"
    }
   ],
   "source": [
    "plt.figure(figsize=(12,5))\n",
    "#'#FF5A5F'\n",
    "sns.barplot(redundant_listings['Property_Images'],redundant_listings['percentage_of_bookings'],color='#FF5A5F')\n",
    "plt.title('Distribution of Percentage of Bookings done on listings wrt number of images posted by all types of users')\n",
    "plt.show()"
   ]
  },
  {
   "cell_type": "code",
   "execution_count": 10,
   "metadata": {},
   "outputs": [
    {
     "data": {
      "text/html": [
       "<div>\n",
       "<style scoped>\n",
       "    .dataframe tbody tr th:only-of-type {\n",
       "        vertical-align: middle;\n",
       "    }\n",
       "\n",
       "    .dataframe tbody tr th {\n",
       "        vertical-align: top;\n",
       "    }\n",
       "\n",
       "    .dataframe thead th {\n",
       "        text-align: right;\n",
       "    }\n",
       "</style>\n",
       "<table border=\"1\" class=\"dataframe\">\n",
       "  <thead>\n",
       "    <tr style=\"text-align: right;\">\n",
       "      <th></th>\n",
       "      <th>Listing_Id</th>\n",
       "      <th>Posting_Date</th>\n",
       "      <th>Posting_Time</th>\n",
       "      <th>Location</th>\n",
       "      <th>Images</th>\n",
       "      <th>Bookings</th>\n",
       "      <th>Host_Type</th>\n",
       "    </tr>\n",
       "  </thead>\n",
       "  <tbody>\n",
       "    <tr>\n",
       "      <th>185</th>\n",
       "      <td>5197757</td>\n",
       "      <td>2014-01-09</td>\n",
       "      <td>04:53:32</td>\n",
       "      <td>Toronto</td>\n",
       "      <td>28</td>\n",
       "      <td>134</td>\n",
       "      <td>Regular</td>\n",
       "    </tr>\n",
       "    <tr>\n",
       "      <th>432</th>\n",
       "      <td>4802899</td>\n",
       "      <td>2014-02-10</td>\n",
       "      <td>06:26:08</td>\n",
       "      <td>Mumbai</td>\n",
       "      <td>28</td>\n",
       "      <td>51</td>\n",
       "      <td>Regular</td>\n",
       "    </tr>\n",
       "    <tr>\n",
       "      <th>472</th>\n",
       "      <td>4960230</td>\n",
       "      <td>2014-02-10</td>\n",
       "      <td>14:05:00</td>\n",
       "      <td>Brussels</td>\n",
       "      <td>5</td>\n",
       "      <td>10</td>\n",
       "      <td>Regular</td>\n",
       "    </tr>\n",
       "    <tr>\n",
       "      <th>483</th>\n",
       "      <td>4862421</td>\n",
       "      <td>2014-02-12</td>\n",
       "      <td>07:26:28</td>\n",
       "      <td>Barcelona</td>\n",
       "      <td>30</td>\n",
       "      <td>31</td>\n",
       "      <td>Regular</td>\n",
       "    </tr>\n",
       "    <tr>\n",
       "      <th>318</th>\n",
       "      <td>5646005</td>\n",
       "      <td>2014-03-10</td>\n",
       "      <td>21:44:56</td>\n",
       "      <td>Toronto</td>\n",
       "      <td>29</td>\n",
       "      <td>304</td>\n",
       "      <td>Superhost</td>\n",
       "    </tr>\n",
       "    <tr>\n",
       "      <th>...</th>\n",
       "      <td>...</td>\n",
       "      <td>...</td>\n",
       "      <td>...</td>\n",
       "      <td>...</td>\n",
       "      <td>...</td>\n",
       "      <td>...</td>\n",
       "      <td>...</td>\n",
       "    </tr>\n",
       "    <tr>\n",
       "      <th>343</th>\n",
       "      <td>3305667</td>\n",
       "      <td>2019-11-07</td>\n",
       "      <td>11:43:30</td>\n",
       "      <td>Brussels</td>\n",
       "      <td>1</td>\n",
       "      <td>0</td>\n",
       "      <td>Regular</td>\n",
       "    </tr>\n",
       "    <tr>\n",
       "      <th>491</th>\n",
       "      <td>4542761</td>\n",
       "      <td>2019-11-07</td>\n",
       "      <td>11:46:18</td>\n",
       "      <td>Cambridge</td>\n",
       "      <td>7</td>\n",
       "      <td>4</td>\n",
       "      <td>Regular</td>\n",
       "    </tr>\n",
       "    <tr>\n",
       "      <th>334</th>\n",
       "      <td>4544153</td>\n",
       "      <td>2019-11-08</td>\n",
       "      <td>18:28:50</td>\n",
       "      <td>Cambridge</td>\n",
       "      <td>18</td>\n",
       "      <td>5</td>\n",
       "      <td>Regular</td>\n",
       "    </tr>\n",
       "    <tr>\n",
       "      <th>274</th>\n",
       "      <td>5750619</td>\n",
       "      <td>2019-12-03</td>\n",
       "      <td>15:08:44</td>\n",
       "      <td>Seattle</td>\n",
       "      <td>12</td>\n",
       "      <td>21</td>\n",
       "      <td>Regular</td>\n",
       "    </tr>\n",
       "    <tr>\n",
       "      <th>277</th>\n",
       "      <td>5043544</td>\n",
       "      <td>2019-12-06</td>\n",
       "      <td>09:38:05</td>\n",
       "      <td>Tunis</td>\n",
       "      <td>15</td>\n",
       "      <td>11</td>\n",
       "      <td>Regular</td>\n",
       "    </tr>\n",
       "  </tbody>\n",
       "</table>\n",
       "<p>500 rows × 7 columns</p>\n",
       "</div>"
      ],
      "text/plain": [
       "     Listing_Id Posting_Date Posting_Time   Location  Images  Bookings  \\\n",
       "185     5197757   2014-01-09     04:53:32    Toronto      28       134   \n",
       "432     4802899   2014-02-10     06:26:08     Mumbai      28        51   \n",
       "472     4960230   2014-02-10     14:05:00   Brussels       5        10   \n",
       "483     4862421   2014-02-12     07:26:28  Barcelona      30        31   \n",
       "318     5646005   2014-03-10     21:44:56    Toronto      29       304   \n",
       "..          ...          ...          ...        ...     ...       ...   \n",
       "343     3305667   2019-11-07     11:43:30   Brussels       1         0   \n",
       "491     4542761   2019-11-07     11:46:18  Cambridge       7         4   \n",
       "334     4544153   2019-11-08     18:28:50  Cambridge      18         5   \n",
       "274     5750619   2019-12-03     15:08:44    Seattle      12        21   \n",
       "277     5043544   2019-12-06     09:38:05      Tunis      15        11   \n",
       "\n",
       "     Host_Type  \n",
       "185    Regular  \n",
       "432    Regular  \n",
       "472    Regular  \n",
       "483    Regular  \n",
       "318  Superhost  \n",
       "..         ...  \n",
       "343    Regular  \n",
       "491    Regular  \n",
       "334    Regular  \n",
       "274    Regular  \n",
       "277    Regular  \n",
       "\n",
       "[500 rows x 7 columns]"
      ]
     },
     "execution_count": 10,
     "metadata": {},
     "output_type": "execute_result"
    }
   ],
   "source": [
    "listings['Posting_Date'] = pd.to_datetime(listings['Posting_Date'])\n",
    "listings.sort_values(by='Posting_Date',ascending=True)"
   ]
  },
  {
   "cell_type": "code",
   "execution_count": 68,
   "metadata": {},
   "outputs": [
    {
     "data": {
      "image/png": "[encoded data removed]",
      "text/plain": [
       "<Figure size 864x360 with 1 Axes>"
      ]
     },
     "metadata": {
      "needs_background": "light"
     },
     "output_type": "display_data"
    }
   ],
   "source": [
    "plt.figure(figsize=(12,5))\n",
    "listings['Images'].value_counts(bins=9).plot.bar()\n",
    "plt.xticks(rotation='45')\n",
    "plt.figure(figsize=(12,5))\n"
   ]
  },
  {
   "cell_type": "code",
   "execution_count": 82,
   "metadata": {},
   "outputs": [
    {
     "data": {
      "image/png": "[encoded data removed]",
      "text/plain": [
       "<Figure size 864x360 with 1 Axes>"
      ]
     },
     "metadata": {
      "needs_background": "light"
     },
     "output_type": "display_data"
    }
   ],
   "source": [
    "plt.figure(figsize=(12,5))\n",
    "\n",
    "a = listings.groupby('Images').agg({'Bookings':'sum','Posting_Time':'count'}).reset_index()\n",
    "a\n",
    "sns.barplot(a['Images'],a['Posting_Time'],color = '#FF5A5F')\n",
    "plt.xlabel('Number of Images')\n",
    "plt.ylabel('Number of Listings')\n",
    "plt.title('Number of listings done by users wrt images posted')\n",
    "plt.show()"
   ]
  },
  {
   "cell_type": "code",
   "execution_count": null,
   "metadata": {},
   "outputs": [],
   "source": []
  },
  {
   "cell_type": "code",
   "execution_count": 83,
   "metadata": {},
   "outputs": [
    {
     "data": {
      "image/png": "[encoded data removed]",
      "text/plain": [
       "<Figure size 864x360 with 1 Axes>"
      ]
     },
     "metadata": {
      "needs_background": "light"
     },
     "output_type": "display_data"
    }
   ],
   "source": [
    "plt.figure(figsize=(12,5))\n",
    "\n",
    "a = listings.groupby('Images').agg({'Bookings':'sum','Posting_Time':'count'}).reset_index()\n",
    "a\n",
    "sns.barplot(a['Images'],a['Bookings'],color = '#FF5A5F')\n",
    "plt.xlabel('Number of Images')\n",
    "plt.ylabel('Number of Bookings')\n",
    "plt.title('Number of bookings done by users wrt images posted')\n",
    "\n",
    "plt.show()"
   ]
  },
  {
   "cell_type": "code",
   "execution_count": 77,
   "metadata": {},
   "outputs": [
    {
     "data": {
      "text/plain": [
       "<matplotlib.axes._subplots.AxesSubplot at 0x17f27836820>"
      ]
     },
     "execution_count": 77,
     "metadata": {},
     "output_type": "execute_result"
    },
    {
     "data": {
      "image/png": "[encoded data removed]",
      "text/plain": [
       "<Figure size 432x288 with 1 Axes>"
      ]
     },
     "metadata": {
      "needs_background": "light"
     },
     "output_type": "display_data"
    }
   ],
   "source": [
    "a['Images'].value_counts(bins=8).plot.bar()"
   ]
  },
  {
   "cell_type": "code",
   "execution_count": 11,
   "metadata": {},
   "outputs": [],
   "source": [
    "listings_regular= listings[listings['Host_Type']=='Regular']\n",
    "listings_super= listings[listings['Host_Type']=='Superhost']"
   ]
  },
  {
   "cell_type": "code",
   "execution_count": null,
   "metadata": {},
   "outputs": [],
   "source": []
  },
  {
   "cell_type": "code",
   "execution_count": 35,
   "metadata": {},
   "outputs": [
    {
     "data": {
      "image/png": "[encoded data removed]",
      "text/plain": [
       "<Figure size 864x360 with 1 Axes>"
      ]
     },
     "metadata": {
      "needs_background": "light"
     },
     "output_type": "display_data"
    }
   ],
   "source": [
    "plt.figure(figsize=(12,5))\n",
    "sns.regplot(listings_regular['Images'],listings_regular['Bookings'],color ='#FF5A5F'  )\n",
    "plt.title('Trend of Bookings done on listings wrt number of images posted by all types of users')\n",
    "\n",
    "plt.show()"
   ]
  },
  {
   "cell_type": "code",
   "execution_count": 13,
   "metadata": {},
   "outputs": [
    {
     "data": {
      "image/png": "[encoded data removed]",
      "text/plain": [
       "<Figure size 864x504 with 2 Axes>"
      ]
     },
     "metadata": {
      "needs_background": "light"
     },
     "output_type": "display_data"
    }
   ],
   "source": [
    "# sns.lineplot('Images','Bookings',data=listings)\n",
    "fig,ax = plt.subplots(2,figsize=(12,7))\n",
    "fig.suptitle('Outliers in continuous distribution of bookings and Images')\n",
    "sns.boxplot(listings['Bookings'],ax=ax[0],color ='#FF5A5F' )\n",
    "sns.boxplot(listings['Images'],ax=ax[1],color = '#FF5A5F')\n",
    "plt.show()\n"
   ]
  },
  {
   "cell_type": "code",
   "execution_count": 14,
   "metadata": {},
   "outputs": [],
   "source": [
    "q1 = listings['Bookings'].quantile(0.25)\n",
    "q3 = listings['Bookings'].quantile(0.75)\n",
    "iqr = q3-q1\n",
    "upper_limit =  q3 + 1.5 * (iqr)\n",
    "lower_limit =  q1- 1.5 * (iqr)\n",
    "listings = listings[~((listings['Bookings']>upper_limit)|(listings['Bookings']<lower_limit))]"
   ]
  },
  {
   "cell_type": "code",
   "execution_count": 15,
   "metadata": {},
   "outputs": [
    {
     "data": {
      "image/png": "[encoded data removed]",
      "text/plain": [
       "<Figure size 864x504 with 2 Axes>"
      ]
     },
     "metadata": {
      "needs_background": "light"
     },
     "output_type": "display_data"
    }
   ],
   "source": [
    "# sns.lineplot('Images','Bookings',data=listings)\n",
    "fig,ax = plt.subplots(2,figsize=(12,7))\n",
    "fig.suptitle('Outliers in continuous distribution of bookings and Images')\n",
    "sns.boxplot(listings['Bookings'],ax=ax[0],color ='#FF5A5F' )\n",
    "sns.boxplot(listings['Images'],ax=ax[1],color = '#FF5A5F')\n",
    "plt.show()\n"
   ]
  },
  {
   "cell_type": "code",
   "execution_count": 16,
   "metadata": {},
   "outputs": [
    {
     "data": {
      "text/html": [
       "<div>\n",
       "<style scoped>\n",
       "    .dataframe tbody tr th:only-of-type {\n",
       "        vertical-align: middle;\n",
       "    }\n",
       "\n",
       "    .dataframe tbody tr th {\n",
       "        vertical-align: top;\n",
       "    }\n",
       "\n",
       "    .dataframe thead th {\n",
       "        text-align: right;\n",
       "    }\n",
       "</style>\n",
       "<table border=\"1\" class=\"dataframe\">\n",
       "  <thead>\n",
       "    <tr style=\"text-align: right;\">\n",
       "      <th></th>\n",
       "      <th>Location</th>\n",
       "      <th>Bookings</th>\n",
       "      <th>Images</th>\n",
       "    </tr>\n",
       "  </thead>\n",
       "  <tbody>\n",
       "    <tr>\n",
       "      <th>0</th>\n",
       "      <td>Amsterdam</td>\n",
       "      <td>349</td>\n",
       "      <td>129</td>\n",
       "    </tr>\n",
       "    <tr>\n",
       "      <th>1</th>\n",
       "      <td>Auckland</td>\n",
       "      <td>135</td>\n",
       "      <td>68</td>\n",
       "    </tr>\n",
       "    <tr>\n",
       "      <th>2</th>\n",
       "      <td>Barcelona</td>\n",
       "      <td>332</td>\n",
       "      <td>187</td>\n",
       "    </tr>\n",
       "    <tr>\n",
       "      <th>3</th>\n",
       "      <td>Bengaluru</td>\n",
       "      <td>717</td>\n",
       "      <td>309</td>\n",
       "    </tr>\n",
       "    <tr>\n",
       "      <th>4</th>\n",
       "      <td>Berkeley</td>\n",
       "      <td>632</td>\n",
       "      <td>260</td>\n",
       "    </tr>\n",
       "    <tr>\n",
       "      <th>5</th>\n",
       "      <td>Berlin</td>\n",
       "      <td>786</td>\n",
       "      <td>253</td>\n",
       "    </tr>\n",
       "    <tr>\n",
       "      <th>6</th>\n",
       "      <td>Boston</td>\n",
       "      <td>606</td>\n",
       "      <td>218</td>\n",
       "    </tr>\n",
       "    <tr>\n",
       "      <th>7</th>\n",
       "      <td>Brussels</td>\n",
       "      <td>559</td>\n",
       "      <td>289</td>\n",
       "    </tr>\n",
       "    <tr>\n",
       "      <th>8</th>\n",
       "      <td>Cambridge</td>\n",
       "      <td>238</td>\n",
       "      <td>58</td>\n",
       "    </tr>\n",
       "    <tr>\n",
       "      <th>9</th>\n",
       "      <td>Cambridge</td>\n",
       "      <td>3</td>\n",
       "      <td>3</td>\n",
       "    </tr>\n",
       "    <tr>\n",
       "      <th>10</th>\n",
       "      <td>Cape Town</td>\n",
       "      <td>68</td>\n",
       "      <td>61</td>\n",
       "    </tr>\n",
       "    <tr>\n",
       "      <th>11</th>\n",
       "      <td>Chennai</td>\n",
       "      <td>235</td>\n",
       "      <td>119</td>\n",
       "    </tr>\n",
       "    <tr>\n",
       "      <th>12</th>\n",
       "      <td>Chicago</td>\n",
       "      <td>273</td>\n",
       "      <td>187</td>\n",
       "    </tr>\n",
       "    <tr>\n",
       "      <th>13</th>\n",
       "      <td>Kyoto</td>\n",
       "      <td>639</td>\n",
       "      <td>218</td>\n",
       "    </tr>\n",
       "    <tr>\n",
       "      <th>14</th>\n",
       "      <td>London</td>\n",
       "      <td>311</td>\n",
       "      <td>90</td>\n",
       "    </tr>\n",
       "    <tr>\n",
       "      <th>15</th>\n",
       "      <td>Los Angeles</td>\n",
       "      <td>747</td>\n",
       "      <td>362</td>\n",
       "    </tr>\n",
       "    <tr>\n",
       "      <th>16</th>\n",
       "      <td>Madrid</td>\n",
       "      <td>890</td>\n",
       "      <td>364</td>\n",
       "    </tr>\n",
       "    <tr>\n",
       "      <th>17</th>\n",
       "      <td>Mexico City</td>\n",
       "      <td>732</td>\n",
       "      <td>294</td>\n",
       "    </tr>\n",
       "    <tr>\n",
       "      <th>18</th>\n",
       "      <td>Miami</td>\n",
       "      <td>388</td>\n",
       "      <td>118</td>\n",
       "    </tr>\n",
       "    <tr>\n",
       "      <th>19</th>\n",
       "      <td>Milano</td>\n",
       "      <td>207</td>\n",
       "      <td>43</td>\n",
       "    </tr>\n",
       "    <tr>\n",
       "      <th>20</th>\n",
       "      <td>Mumbai</td>\n",
       "      <td>491</td>\n",
       "      <td>199</td>\n",
       "    </tr>\n",
       "    <tr>\n",
       "      <th>21</th>\n",
       "      <td>New Delhi</td>\n",
       "      <td>803</td>\n",
       "      <td>255</td>\n",
       "    </tr>\n",
       "    <tr>\n",
       "      <th>22</th>\n",
       "      <td>New Jersey</td>\n",
       "      <td>364</td>\n",
       "      <td>197</td>\n",
       "    </tr>\n",
       "    <tr>\n",
       "      <th>23</th>\n",
       "      <td>New York</td>\n",
       "      <td>316</td>\n",
       "      <td>124</td>\n",
       "    </tr>\n",
       "    <tr>\n",
       "      <th>24</th>\n",
       "      <td>Osaka</td>\n",
       "      <td>80</td>\n",
       "      <td>39</td>\n",
       "    </tr>\n",
       "    <tr>\n",
       "      <th>25</th>\n",
       "      <td>Paris</td>\n",
       "      <td>397</td>\n",
       "      <td>201</td>\n",
       "    </tr>\n",
       "    <tr>\n",
       "      <th>26</th>\n",
       "      <td>Rio</td>\n",
       "      <td>148</td>\n",
       "      <td>59</td>\n",
       "    </tr>\n",
       "    <tr>\n",
       "      <th>27</th>\n",
       "      <td>Roma</td>\n",
       "      <td>540</td>\n",
       "      <td>187</td>\n",
       "    </tr>\n",
       "    <tr>\n",
       "      <th>28</th>\n",
       "      <td>San Diego</td>\n",
       "      <td>347</td>\n",
       "      <td>61</td>\n",
       "    </tr>\n",
       "    <tr>\n",
       "      <th>29</th>\n",
       "      <td>San Francisco</td>\n",
       "      <td>46</td>\n",
       "      <td>59</td>\n",
       "    </tr>\n",
       "    <tr>\n",
       "      <th>30</th>\n",
       "      <td>San Francisco</td>\n",
       "      <td>268</td>\n",
       "      <td>60</td>\n",
       "    </tr>\n",
       "    <tr>\n",
       "      <th>31</th>\n",
       "      <td>San Jose</td>\n",
       "      <td>532</td>\n",
       "      <td>214</td>\n",
       "    </tr>\n",
       "    <tr>\n",
       "      <th>32</th>\n",
       "      <td>Sao Paulo</td>\n",
       "      <td>123</td>\n",
       "      <td>68</td>\n",
       "    </tr>\n",
       "    <tr>\n",
       "      <th>33</th>\n",
       "      <td>Seattle</td>\n",
       "      <td>539</td>\n",
       "      <td>186</td>\n",
       "    </tr>\n",
       "    <tr>\n",
       "      <th>34</th>\n",
       "      <td>Seoul</td>\n",
       "      <td>233</td>\n",
       "      <td>63</td>\n",
       "    </tr>\n",
       "    <tr>\n",
       "      <th>35</th>\n",
       "      <td>Shanghai</td>\n",
       "      <td>222</td>\n",
       "      <td>107</td>\n",
       "    </tr>\n",
       "    <tr>\n",
       "      <th>36</th>\n",
       "      <td>Sydney</td>\n",
       "      <td>236</td>\n",
       "      <td>119</td>\n",
       "    </tr>\n",
       "    <tr>\n",
       "      <th>37</th>\n",
       "      <td>Tokyo</td>\n",
       "      <td>396</td>\n",
       "      <td>122</td>\n",
       "    </tr>\n",
       "    <tr>\n",
       "      <th>38</th>\n",
       "      <td>Toronto</td>\n",
       "      <td>504</td>\n",
       "      <td>211</td>\n",
       "    </tr>\n",
       "    <tr>\n",
       "      <th>39</th>\n",
       "      <td>Tunis</td>\n",
       "      <td>731</td>\n",
       "      <td>252</td>\n",
       "    </tr>\n",
       "    <tr>\n",
       "      <th>40</th>\n",
       "      <td>Vancouver</td>\n",
       "      <td>514</td>\n",
       "      <td>240</td>\n",
       "    </tr>\n",
       "    <tr>\n",
       "      <th>41</th>\n",
       "      <td>Wellington</td>\n",
       "      <td>43</td>\n",
       "      <td>57</td>\n",
       "    </tr>\n",
       "  </tbody>\n",
       "</table>\n",
       "</div>"
      ],
      "text/plain": [
       "          Location  Bookings  Images\n",
       "0        Amsterdam       349     129\n",
       "1         Auckland       135      68\n",
       "2        Barcelona       332     187\n",
       "3        Bengaluru       717     309\n",
       "4        Berkeley        632     260\n",
       "5           Berlin       786     253\n",
       "6           Boston       606     218\n",
       "7         Brussels       559     289\n",
       "8        Cambridge       238      58\n",
       "9       Cambridge          3       3\n",
       "10       Cape Town        68      61\n",
       "11         Chennai       235     119\n",
       "12         Chicago       273     187\n",
       "13           Kyoto       639     218\n",
       "14          London       311      90\n",
       "15     Los Angeles       747     362\n",
       "16          Madrid       890     364\n",
       "17     Mexico City       732     294\n",
       "18           Miami       388     118\n",
       "19          Milano       207      43\n",
       "20          Mumbai       491     199\n",
       "21       New Delhi       803     255\n",
       "22     New Jersey        364     197\n",
       "23        New York       316     124\n",
       "24           Osaka        80      39\n",
       "25           Paris       397     201\n",
       "26             Rio       148      59\n",
       "27            Roma       540     187\n",
       "28       San Diego       347      61\n",
       "29   San Francisco        46      59\n",
       "30  San Francisco        268      60\n",
       "31        San Jose       532     214\n",
       "32       Sao Paulo       123      68\n",
       "33         Seattle       539     186\n",
       "34           Seoul       233      63\n",
       "35        Shanghai       222     107\n",
       "36          Sydney       236     119\n",
       "37           Tokyo       396     122\n",
       "38         Toronto       504     211\n",
       "39           Tunis       731     252\n",
       "40       Vancouver       514     240\n",
       "41      Wellington        43      57"
      ]
     },
     "execution_count": 16,
     "metadata": {},
     "output_type": "execute_result"
    }
   ],
   "source": [
    "listings.groupby('Location').agg({'Bookings':'sum','Images':'sum'}).reset_index()"
   ]
  },
  {
   "cell_type": "code",
   "execution_count": 17,
   "metadata": {},
   "outputs": [
    {
     "data": {
      "image/png": "[encoded data removed]",
      "text/plain": [
       "<Figure size 864x360 with 2 Axes>"
      ]
     },
     "metadata": {
      "needs_background": "light"
     },
     "output_type": "display_data"
    }
   ],
   "source": [
    "plt.figure(figsize=(12,5))\n",
    "\n",
    "sns.heatmap(np.abs(listings_regular.groupby('Location').agg({'Bookings':'sum','Images':'sum'}).reset_index()[['Bookings','Images']].corr()),annot=True,\n",
    "            center=0,linewidth=0.5,\n",
    "            cmap='copper')\n",
    "plt.title('Correlation of Bookings with Number of Images posted by Regular Users ,grouped by Location')\n",
    "plt.show()"
   ]
  },
  {
   "cell_type": "code",
   "execution_count": 18,
   "metadata": {},
   "outputs": [
    {
     "data": {
      "image/png": "[encoded data removed]",
      "text/plain": [
       "<Figure size 864x360 with 2 Axes>"
      ]
     },
     "metadata": {
      "needs_background": "light"
     },
     "output_type": "display_data"
    }
   ],
   "source": [
    "plt.figure(figsize=(12,5))\n",
    "\n",
    "sns.heatmap(np.abs(listings_super.groupby('Location').agg({'Bookings':'sum','Images':'sum'}).reset_index()[['Bookings','Images']].corr()),annot=True,\n",
    "            center=0,linewidth=0.5,\n",
    "            cmap='copper')\n",
    "plt.title('Correlation of Bookings with Number of Images posted by Super Users, grouped by Location')\n",
    "\n",
    "plt.show()"
   ]
  },
  {
   "cell_type": "code",
   "execution_count": 19,
   "metadata": {},
   "outputs": [
    {
     "data": {
      "text/html": [
       "<div>\n",
       "<style scoped>\n",
       "    .dataframe tbody tr th:only-of-type {\n",
       "        vertical-align: middle;\n",
       "    }\n",
       "\n",
       "    .dataframe tbody tr th {\n",
       "        vertical-align: top;\n",
       "    }\n",
       "\n",
       "    .dataframe thead th {\n",
       "        text-align: right;\n",
       "    }\n",
       "</style>\n",
       "<table border=\"1\" class=\"dataframe\">\n",
       "  <thead>\n",
       "    <tr style=\"text-align: right;\">\n",
       "      <th></th>\n",
       "      <th>Date</th>\n",
       "      <th>Open_Listings_0_2</th>\n",
       "      <th>Open_Listings_3_5</th>\n",
       "      <th>Open_Listings_6_10</th>\n",
       "      <th>Open_Listings_11_15</th>\n",
       "      <th>Open_Listings_16</th>\n",
       "    </tr>\n",
       "  </thead>\n",
       "  <tbody>\n",
       "    <tr>\n",
       "      <th>0</th>\n",
       "      <td>08/01/2018</td>\n",
       "      <td>51918</td>\n",
       "      <td>59583</td>\n",
       "      <td>9558</td>\n",
       "      <td>28830</td>\n",
       "      <td>38364</td>\n",
       "    </tr>\n",
       "    <tr>\n",
       "      <th>1</th>\n",
       "      <td>08/02/2018</td>\n",
       "      <td>50196</td>\n",
       "      <td>67897</td>\n",
       "      <td>10820</td>\n",
       "      <td>23024</td>\n",
       "      <td>31676</td>\n",
       "    </tr>\n",
       "    <tr>\n",
       "      <th>2</th>\n",
       "      <td>08/03/2018</td>\n",
       "      <td>56239</td>\n",
       "      <td>52148</td>\n",
       "      <td>24258</td>\n",
       "      <td>34328</td>\n",
       "      <td>7342</td>\n",
       "    </tr>\n",
       "    <tr>\n",
       "      <th>3</th>\n",
       "      <td>08/04/2018</td>\n",
       "      <td>57762</td>\n",
       "      <td>67057</td>\n",
       "      <td>15148</td>\n",
       "      <td>15531</td>\n",
       "      <td>23232</td>\n",
       "    </tr>\n",
       "    <tr>\n",
       "      <th>4</th>\n",
       "      <td>08/05/2018</td>\n",
       "      <td>59221</td>\n",
       "      <td>53113</td>\n",
       "      <td>18165</td>\n",
       "      <td>18387</td>\n",
       "      <td>8486</td>\n",
       "    </tr>\n",
       "  </tbody>\n",
       "</table>\n",
       "</div>"
      ],
      "text/plain": [
       "         Date  Open_Listings_0_2  Open_Listings_3_5  Open_Listings_6_10  \\\n",
       "0  08/01/2018              51918              59583                9558   \n",
       "1  08/02/2018              50196              67897               10820   \n",
       "2  08/03/2018              56239              52148               24258   \n",
       "3  08/04/2018              57762              67057               15148   \n",
       "4  08/05/2018              59221              53113               18165   \n",
       "\n",
       "   Open_Listings_11_15  Open_Listings_16  \n",
       "0                28830             38364  \n",
       "1                23024             31676  \n",
       "2                34328              7342  \n",
       "3                15531             23232  \n",
       "4                18387              8486  "
      ]
     },
     "execution_count": 19,
     "metadata": {},
     "output_type": "execute_result"
    }
   ],
   "source": [
    "open_listings.head()"
   ]
  },
  {
   "cell_type": "code",
   "execution_count": 20,
   "metadata": {},
   "outputs": [],
   "source": [
    "import datetime as dt"
   ]
  },
  {
   "cell_type": "code",
   "execution_count": 21,
   "metadata": {},
   "outputs": [],
   "source": [
    "open_listings['Date'] = pd.to_datetime(open_listings['Date'])"
   ]
  },
  {
   "cell_type": "code",
   "execution_count": 22,
   "metadata": {},
   "outputs": [],
   "source": [
    "open_listings['month'] = open_listings['Date'].dt.strftime('%b')"
   ]
  },
  {
   "cell_type": "code",
   "execution_count": 23,
   "metadata": {},
   "outputs": [],
   "source": [
    "open_listings['year'] = open_listings['Date'].dt.year"
   ]
  },
  {
   "cell_type": "code",
   "execution_count": 24,
   "metadata": {},
   "outputs": [
    {
     "data": {
      "text/html": [
       "<div>\n",
       "<style scoped>\n",
       "    .dataframe tbody tr th:only-of-type {\n",
       "        vertical-align: middle;\n",
       "    }\n",
       "\n",
       "    .dataframe tbody tr th {\n",
       "        vertical-align: top;\n",
       "    }\n",
       "\n",
       "    .dataframe thead th {\n",
       "        text-align: right;\n",
       "    }\n",
       "</style>\n",
       "<table border=\"1\" class=\"dataframe\">\n",
       "  <thead>\n",
       "    <tr style=\"text-align: right;\">\n",
       "      <th></th>\n",
       "      <th>Date</th>\n",
       "      <th>Open_Listings_0_2</th>\n",
       "      <th>Open_Listings_3_5</th>\n",
       "      <th>Open_Listings_6_10</th>\n",
       "      <th>Open_Listings_11_15</th>\n",
       "      <th>Open_Listings_16</th>\n",
       "      <th>month</th>\n",
       "      <th>year</th>\n",
       "    </tr>\n",
       "  </thead>\n",
       "  <tbody>\n",
       "    <tr>\n",
       "      <th>0</th>\n",
       "      <td>2018-08-01</td>\n",
       "      <td>51918</td>\n",
       "      <td>59583</td>\n",
       "      <td>9558</td>\n",
       "      <td>28830</td>\n",
       "      <td>38364</td>\n",
       "      <td>Aug</td>\n",
       "      <td>2018</td>\n",
       "    </tr>\n",
       "    <tr>\n",
       "      <th>1</th>\n",
       "      <td>2018-08-02</td>\n",
       "      <td>50196</td>\n",
       "      <td>67897</td>\n",
       "      <td>10820</td>\n",
       "      <td>23024</td>\n",
       "      <td>31676</td>\n",
       "      <td>Aug</td>\n",
       "      <td>2018</td>\n",
       "    </tr>\n",
       "    <tr>\n",
       "      <th>2</th>\n",
       "      <td>2018-08-03</td>\n",
       "      <td>56239</td>\n",
       "      <td>52148</td>\n",
       "      <td>24258</td>\n",
       "      <td>34328</td>\n",
       "      <td>7342</td>\n",
       "      <td>Aug</td>\n",
       "      <td>2018</td>\n",
       "    </tr>\n",
       "    <tr>\n",
       "      <th>3</th>\n",
       "      <td>2018-08-04</td>\n",
       "      <td>57762</td>\n",
       "      <td>67057</td>\n",
       "      <td>15148</td>\n",
       "      <td>15531</td>\n",
       "      <td>23232</td>\n",
       "      <td>Aug</td>\n",
       "      <td>2018</td>\n",
       "    </tr>\n",
       "    <tr>\n",
       "      <th>4</th>\n",
       "      <td>2018-08-05</td>\n",
       "      <td>59221</td>\n",
       "      <td>53113</td>\n",
       "      <td>18165</td>\n",
       "      <td>18387</td>\n",
       "      <td>8486</td>\n",
       "      <td>Aug</td>\n",
       "      <td>2018</td>\n",
       "    </tr>\n",
       "  </tbody>\n",
       "</table>\n",
       "</div>"
      ],
      "text/plain": [
       "        Date  Open_Listings_0_2  Open_Listings_3_5  Open_Listings_6_10  \\\n",
       "0 2018-08-01              51918              59583                9558   \n",
       "1 2018-08-02              50196              67897               10820   \n",
       "2 2018-08-03              56239              52148               24258   \n",
       "3 2018-08-04              57762              67057               15148   \n",
       "4 2018-08-05              59221              53113               18165   \n",
       "\n",
       "   Open_Listings_11_15  Open_Listings_16 month  year  \n",
       "0                28830             38364   Aug  2018  \n",
       "1                23024             31676   Aug  2018  \n",
       "2                34328              7342   Aug  2018  \n",
       "3                15531             23232   Aug  2018  \n",
       "4                18387              8486   Aug  2018  "
      ]
     },
     "execution_count": 24,
     "metadata": {},
     "output_type": "execute_result"
    }
   ],
   "source": [
    "open_listings.head()"
   ]
  },
  {
   "cell_type": "code",
   "execution_count": 25,
   "metadata": {},
   "outputs": [],
   "source": [
    "open_all  = open_listings.groupby('month').agg({'Open_Listings_0_2':'sum','Open_Listings_3_5':'sum','Open_Listings_6_10':'sum','Open_Listings_11_15':'sum','Open_Listings_16':'sum'}).reset_index()"
   ]
  },
  {
   "cell_type": "code",
   "execution_count": 26,
   "metadata": {},
   "outputs": [
    {
     "data": {
      "text/html": [
       "<div>\n",
       "<style scoped>\n",
       "    .dataframe tbody tr th:only-of-type {\n",
       "        vertical-align: middle;\n",
       "    }\n",
       "\n",
       "    .dataframe tbody tr th {\n",
       "        vertical-align: top;\n",
       "    }\n",
       "\n",
       "    .dataframe thead th {\n",
       "        text-align: right;\n",
       "    }\n",
       "</style>\n",
       "<table border=\"1\" class=\"dataframe\">\n",
       "  <thead>\n",
       "    <tr style=\"text-align: right;\">\n",
       "      <th></th>\n",
       "      <th>month</th>\n",
       "      <th>Open_Listings_0_2</th>\n",
       "      <th>Open_Listings_3_5</th>\n",
       "      <th>Open_Listings_6_10</th>\n",
       "      <th>Open_Listings_11_15</th>\n",
       "      <th>Open_Listings_16</th>\n",
       "    </tr>\n",
       "  </thead>\n",
       "  <tbody>\n",
       "    <tr>\n",
       "      <th>0</th>\n",
       "      <td>Apr</td>\n",
       "      <td>1617295</td>\n",
       "      <td>1755464</td>\n",
       "      <td>608425</td>\n",
       "      <td>493056</td>\n",
       "      <td>687609</td>\n",
       "    </tr>\n",
       "    <tr>\n",
       "      <th>1</th>\n",
       "      <td>Aug</td>\n",
       "      <td>3401068</td>\n",
       "      <td>3741336</td>\n",
       "      <td>1248868</td>\n",
       "      <td>1203004</td>\n",
       "      <td>1394351</td>\n",
       "    </tr>\n",
       "    <tr>\n",
       "      <th>2</th>\n",
       "      <td>Dec</td>\n",
       "      <td>1702686</td>\n",
       "      <td>1899236</td>\n",
       "      <td>640240</td>\n",
       "      <td>682317</td>\n",
       "      <td>739341</td>\n",
       "    </tr>\n",
       "    <tr>\n",
       "      <th>3</th>\n",
       "      <td>Feb</td>\n",
       "      <td>1547261</td>\n",
       "      <td>1677452</td>\n",
       "      <td>581422</td>\n",
       "      <td>574189</td>\n",
       "      <td>532178</td>\n",
       "    </tr>\n",
       "    <tr>\n",
       "      <th>4</th>\n",
       "      <td>Jan</td>\n",
       "      <td>1689624</td>\n",
       "      <td>1892037</td>\n",
       "      <td>693319</td>\n",
       "      <td>562237</td>\n",
       "      <td>765062</td>\n",
       "    </tr>\n",
       "  </tbody>\n",
       "</table>\n",
       "</div>"
      ],
      "text/plain": [
       "  month  Open_Listings_0_2  Open_Listings_3_5  Open_Listings_6_10  \\\n",
       "0   Apr            1617295            1755464              608425   \n",
       "1   Aug            3401068            3741336             1248868   \n",
       "2   Dec            1702686            1899236              640240   \n",
       "3   Feb            1547261            1677452              581422   \n",
       "4   Jan            1689624            1892037              693319   \n",
       "\n",
       "   Open_Listings_11_15  Open_Listings_16  \n",
       "0               493056            687609  \n",
       "1              1203004           1394351  \n",
       "2               682317            739341  \n",
       "3               574189            532178  \n",
       "4               562237            765062  "
      ]
     },
     "execution_count": 26,
     "metadata": {},
     "output_type": "execute_result"
    }
   ],
   "source": [
    "open_all.head()"
   ]
  },
  {
   "cell_type": "code",
   "execution_count": 53,
   "metadata": {},
   "outputs": [
    {
     "data": {
      "text/plain": [
       "[{'Open_Listings_0_2': 1815973.9166666667},\n",
       " {'Open_Listings_3_5': 1968863.25},\n",
       " {'Open_Listings_6_10': 697406.0833333334},\n",
       " {'Open_Listings_11_15': 628273.5},\n",
       " {'Open_Listings_16': 755159.3333333334}]"
      ]
     },
     "execution_count": 53,
     "metadata": {},
     "output_type": "execute_result"
    }
   ],
   "source": [
    "list_means = []\n",
    "for i in open_all.drop('month',1).columns:\n",
    "    dict_at = {}\n",
    "    dict_at[i] = np.mean(open_all[i])\n",
    "    list_means.append(dict_at)\n",
    "list_means"
   ]
  },
  {
   "cell_type": "code",
   "execution_count": 52,
   "metadata": {},
   "outputs": [
    {
     "data": {
      "text/plain": [
       "628273.5"
      ]
     },
     "execution_count": 52,
     "metadata": {},
     "output_type": "execute_result"
    }
   ],
   "source": [
    "min(list_means)"
   ]
  },
  {
   "cell_type": "code",
   "execution_count": 42,
   "metadata": {},
   "outputs": [
    {
     "data": {
      "text/plain": [
       "['Open_Listings_0_2',\n",
       " 'Open_Listings_3_5',\n",
       " 'Open_Listings_6_10',\n",
       " 'Open_Listings_11_15',\n",
       " 'Open_Listings_16']"
      ]
     },
     "execution_count": 42,
     "metadata": {},
     "output_type": "execute_result"
    }
   ],
   "source": [
    " list(open_all[open_all['month']==1].drop('month',1).columns)"
   ]
  },
  {
   "cell_type": "code",
   "execution_count": 49,
   "metadata": {},
   "outputs": [
    {
     "data": {
      "text/html": [
       "<div>\n",
       "<style scoped>\n",
       "    .dataframe tbody tr th:only-of-type {\n",
       "        vertical-align: middle;\n",
       "    }\n",
       "\n",
       "    .dataframe tbody tr th {\n",
       "        vertical-align: top;\n",
       "    }\n",
       "\n",
       "    .dataframe thead th {\n",
       "        text-align: right;\n",
       "    }\n",
       "</style>\n",
       "<table border=\"1\" class=\"dataframe\">\n",
       "  <thead>\n",
       "    <tr style=\"text-align: right;\">\n",
       "      <th></th>\n",
       "      <th>Open_Listings_0_2</th>\n",
       "      <th>Open_Listings_3_5</th>\n",
       "      <th>Open_Listings_6_10</th>\n",
       "      <th>Open_Listings_11_15</th>\n",
       "      <th>Open_Listings_16</th>\n",
       "    </tr>\n",
       "  </thead>\n",
       "  <tbody>\n",
       "    <tr>\n",
       "      <th>0</th>\n",
       "      <td>1.815974e+06</td>\n",
       "      <td>NaN</td>\n",
       "      <td>NaN</td>\n",
       "      <td>NaN</td>\n",
       "      <td>NaN</td>\n",
       "    </tr>\n",
       "    <tr>\n",
       "      <th>1</th>\n",
       "      <td>NaN</td>\n",
       "      <td>1968863.25</td>\n",
       "      <td>NaN</td>\n",
       "      <td>NaN</td>\n",
       "      <td>NaN</td>\n",
       "    </tr>\n",
       "    <tr>\n",
       "      <th>2</th>\n",
       "      <td>NaN</td>\n",
       "      <td>NaN</td>\n",
       "      <td>697406.083333</td>\n",
       "      <td>NaN</td>\n",
       "      <td>NaN</td>\n",
       "    </tr>\n",
       "    <tr>\n",
       "      <th>3</th>\n",
       "      <td>NaN</td>\n",
       "      <td>NaN</td>\n",
       "      <td>NaN</td>\n",
       "      <td>628273.5</td>\n",
       "      <td>NaN</td>\n",
       "    </tr>\n",
       "    <tr>\n",
       "      <th>4</th>\n",
       "      <td>NaN</td>\n",
       "      <td>NaN</td>\n",
       "      <td>NaN</td>\n",
       "      <td>NaN</td>\n",
       "      <td>755159.333333</td>\n",
       "    </tr>\n",
       "  </tbody>\n",
       "</table>\n",
       "</div>"
      ],
      "text/plain": [
       "   Open_Listings_0_2  Open_Listings_3_5  Open_Listings_6_10  \\\n",
       "0       1.815974e+06                NaN                 NaN   \n",
       "1                NaN         1968863.25                 NaN   \n",
       "2                NaN                NaN       697406.083333   \n",
       "3                NaN                NaN                 NaN   \n",
       "4                NaN                NaN                 NaN   \n",
       "\n",
       "   Open_Listings_11_15  Open_Listings_16  \n",
       "0                  NaN               NaN  \n",
       "1                  NaN               NaN  \n",
       "2                  NaN               NaN  \n",
       "3             628273.5               NaN  \n",
       "4                  NaN     755159.333333  "
      ]
     },
     "execution_count": 49,
     "metadata": {},
     "output_type": "execute_result"
    }
   ],
   "source": [
    "pd.DataFrame(list_means)"
   ]
  },
  {
   "cell_type": "code",
   "execution_count": 29,
   "metadata": {},
   "outputs": [
    {
     "data": {
      "image/png": "[encoded data removed]",
      "text/plain": [
       "<Figure size 432x288 with 1 Axes>"
      ]
     },
     "metadata": {
      "needs_background": "light"
     },
     "output_type": "display_data"
    }
   ],
   "source": [
    "import matplotlib.pyplot as plt\n",
    "\n",
    "\n",
    "x = list_means\n",
    "labels =  list(open_all[open_all['month']==1].drop('month',1).columns)\n",
    "\n",
    "plt.plot(x)\n",
    "# You can specify a rotation for the tick labels in degrees or with keywords.\n",
    "plt.xticks(x, labels, rotation='vertical')\n",
    "# Pad margins so that markers don't get clipped by the axes\n",
    "\n",
    "plt.show()\n",
    "\n"
   ]
  },
  {
   "cell_type": "code",
   "execution_count": null,
   "metadata": {},
   "outputs": [],
   "source": []
  },
  {
   "cell_type": "code",
   "execution_count": 39,
   "metadata": {},
   "outputs": [
    {
     "data": {
      "image/png": "[encoded data removed]",
      "text/plain": [
       "<Figure size 864x360 with 1 Axes>"
      ]
     },
     "metadata": {
      "needs_background": "light"
     },
     "output_type": "display_data"
    }
   ],
   "source": [
    "plt.figure(figsize=(12,5))\n",
    "ax = sns.distplot(open_all[open_all['month']=='Jan'].drop('month',1))\n",
    "ax=sns.distplot(open_all[open_all['month']=='Feb'].drop('month',1))\n",
    "ax = sns.distplot(open_all[open_all['month']=='Mar'].drop('month',1))\n",
    "ax= sns.distplot(open_all[open_all['month']=='Apr'].drop('month',1))\n",
    "ax=sns.distplot(open_all[open_all['month']=='May'].drop('month',1))\n",
    "ax = sns.distplot(open_all[open_all['month']=='Jun'].drop('month',1))\n",
    "ax = sns.distplot(open_all[open_all['month']=='Jul'].drop('month',1))\n",
    "ax = sns.distplot(open_all[open_all['month']=='Aug'].drop('month',1))\n",
    "ax =  sns.distplot(open_all[open_all['month']=='Sep'].drop('month',1))\n",
    "ax = sns.distplot(open_all[open_all['month']=='Oct'].drop('month',1))\n",
    "ax = sns.distplot(open_all[open_all['month']=='Nov'].drop('month',1))\n",
    "ax = sns.distplot(open_all[open_all['month']=='Dec'].drop('month',1))\n",
    "plt.legend(['Jan','Feb','Mar','Apr','May','Jun','Jul','Aug','Sep','Oct','Nov','Dec'])\n",
    "#plt.plot(range(open_all.drop('month',1).min().min(),open_all.drop('month',1).max().max(),1),range(open_all.drop('month',1).min().min(),open_all.drop('month',1).max().max(),100))\n",
    "ax.ticklabel_format(useOffset=False,style='plain')\n",
    "ax.set_xticklabels(open_all[open_all['month']==1].drop('month',1).columns, rotation='25',fontsize=11)\n",
    "plt.xlim(0)\n",
    "plt.margins(0.2)\n",
    "\n",
    "plt.title('Distribution of open listings for each type of listing over the tenure from August-2018 to July-2019')\n",
    "plt.show()"
   ]
  },
  {
   "cell_type": "code",
   "execution_count": 31,
   "metadata": {},
   "outputs": [
    {
     "data": {
      "text/html": [
       "<div>\n",
       "<style scoped>\n",
       "    .dataframe tbody tr th:only-of-type {\n",
       "        vertical-align: middle;\n",
       "    }\n",
       "\n",
       "    .dataframe tbody tr th {\n",
       "        vertical-align: top;\n",
       "    }\n",
       "\n",
       "    .dataframe thead th {\n",
       "        text-align: right;\n",
       "    }\n",
       "</style>\n",
       "<table border=\"1\" class=\"dataframe\">\n",
       "  <thead>\n",
       "    <tr style=\"text-align: right;\">\n",
       "      <th></th>\n",
       "      <th>month</th>\n",
       "      <th>Open_Listings_0_2</th>\n",
       "      <th>Open_Listings_3_5</th>\n",
       "      <th>Open_Listings_6_10</th>\n",
       "      <th>Open_Listings_11_15</th>\n",
       "      <th>Open_Listings_16</th>\n",
       "    </tr>\n",
       "  </thead>\n",
       "  <tbody>\n",
       "    <tr>\n",
       "      <th>1</th>\n",
       "      <td>Aug</td>\n",
       "      <td>3401068</td>\n",
       "      <td>3741336</td>\n",
       "      <td>1248868</td>\n",
       "      <td>1203004</td>\n",
       "      <td>1394351</td>\n",
       "    </tr>\n",
       "  </tbody>\n",
       "</table>\n",
       "</div>"
      ],
      "text/plain": [
       "  month  Open_Listings_0_2  Open_Listings_3_5  Open_Listings_6_10  \\\n",
       "1   Aug            3401068            3741336             1248868   \n",
       "\n",
       "   Open_Listings_11_15  Open_Listings_16  \n",
       "1              1203004           1394351  "
      ]
     },
     "execution_count": 31,
     "metadata": {},
     "output_type": "execute_result"
    }
   ],
   "source": [
    "open_all.iloc[1:2]"
   ]
  },
  {
   "cell_type": "code",
   "execution_count": 32,
   "metadata": {},
   "outputs": [],
   "source": [
    "from sklearn.cluster import KMeans\n"
   ]
  },
  {
   "cell_type": "code",
   "execution_count": 33,
   "metadata": {},
   "outputs": [
    {
     "ename": "NameError",
     "evalue": "name 'df_segment' is not defined",
     "output_type": "error",
     "traceback": [
      "\u001b[1;31m---------------------------------------------------------------------------\u001b[0m",
      "\u001b[1;31mNameError\u001b[0m                                 Traceback (most recent call last)",
      "\u001b[1;32m<ipython-input-33-af484fd8234e>\u001b[0m in \u001b[0;36m<module>\u001b[1;34m\u001b[0m\n\u001b[0;32m      5\u001b[0m \u001b[1;32mfor\u001b[0m \u001b[0mn\u001b[0m \u001b[1;32min\u001b[0m \u001b[0mcluster_range\u001b[0m\u001b[1;33m:\u001b[0m\u001b[1;33m\u001b[0m\u001b[1;33m\u001b[0m\u001b[0m\n\u001b[0;32m      6\u001b[0m     \u001b[0mmodel\u001b[0m \u001b[1;33m=\u001b[0m \u001b[0mKMeans\u001b[0m\u001b[1;33m(\u001b[0m\u001b[0mn\u001b[0m\u001b[1;33m)\u001b[0m\u001b[1;33m\u001b[0m\u001b[1;33m\u001b[0m\u001b[0m\n\u001b[1;32m----> 7\u001b[1;33m     \u001b[0mmodel\u001b[0m\u001b[1;33m.\u001b[0m\u001b[0mfit\u001b[0m\u001b[1;33m(\u001b[0m\u001b[0mdf_segment\u001b[0m\u001b[1;33m[\u001b[0m\u001b[1;33m[\u001b[0m\u001b[1;34m'Revenue'\u001b[0m\u001b[1;33m,\u001b[0m\u001b[1;34m'unique_order'\u001b[0m\u001b[1;33m]\u001b[0m\u001b[1;33m]\u001b[0m\u001b[1;33m)\u001b[0m  \u001b[1;31m# Using PCA components for Analysis\u001b[0m\u001b[1;33m\u001b[0m\u001b[1;33m\u001b[0m\u001b[0m\n\u001b[0m\u001b[0;32m      8\u001b[0m     \u001b[0mcluster_inertia\u001b[0m\u001b[1;33m.\u001b[0m\u001b[0mappend\u001b[0m\u001b[1;33m(\u001b[0m\u001b[0mmodel\u001b[0m\u001b[1;33m.\u001b[0m\u001b[0minertia_\u001b[0m\u001b[1;33m)\u001b[0m\u001b[1;33m\u001b[0m\u001b[1;33m\u001b[0m\u001b[0m\n\u001b[0;32m      9\u001b[0m \u001b[0mInertia_Frame\u001b[0m \u001b[1;33m=\u001b[0m \u001b[0mpd\u001b[0m\u001b[1;33m.\u001b[0m\u001b[0mDataFrame\u001b[0m\u001b[1;33m(\u001b[0m\u001b[1;33m{\u001b[0m\u001b[1;34m'k-value/Number Of Clusters'\u001b[0m\u001b[1;33m:\u001b[0m\u001b[0mcluster_range\u001b[0m\u001b[1;33m,\u001b[0m\u001b[1;34m'Value of Inertia Obtained'\u001b[0m\u001b[1;33m:\u001b[0m\u001b[0mcluster_inertia\u001b[0m\u001b[1;33m}\u001b[0m\u001b[1;33m)\u001b[0m\u001b[1;33m\u001b[0m\u001b[1;33m\u001b[0m\u001b[0m\n",
      "\u001b[1;31mNameError\u001b[0m: name 'df_segment' is not defined"
     ]
    }
   ],
   "source": [
    "# Optimal K-value\n",
    "kmeans = KMeans()\n",
    "cluster_range = range(2,12)  # Selecting the cluster range\n",
    "cluster_inertia = []\n",
    "for n in cluster_range:\n",
    "    model = KMeans(n)\n",
    "    model.fit(df_segment[['Revenue','unique_order']])  # Using PCA components for Analysis\n",
    "    cluster_inertia.append(model.inertia_)\n",
    "Inertia_Frame = pd.DataFrame({'k-value/Number Of Clusters':cluster_range,'Value of Inertia Obtained':cluster_inertia})\n",
    "Inertia_Frame"
   ]
  },
  {
   "cell_type": "code",
   "execution_count": null,
   "metadata": {},
   "outputs": [],
   "source": []
  },
  {
   "cell_type": "code",
   "execution_count": null,
   "metadata": {},
   "outputs": [],
   "source": []
  },
  {
   "cell_type": "code",
   "execution_count": null,
   "metadata": {},
   "outputs": [],
   "source": []
  },
  {
   "cell_type": "code",
   "execution_count": null,
   "metadata": {},
   "outputs": [],
   "source": []
  },
  {
   "cell_type": "code",
   "execution_count": null,
   "metadata": {},
   "outputs": [],
   "source": []
  },
  {
   "cell_type": "code",
   "execution_count": null,
   "metadata": {},
   "outputs": [],
   "source": []
  },
  {
   "cell_type": "code",
   "execution_count": null,
   "metadata": {},
   "outputs": [],
   "source": []
  }
 ],
 "metadata": {
  "kernelspec": {
   "display_name": "Python 3",
   "language": "python",
   "name": "python3"
  },
  "language_info": {
   "codemirror_mode": {
    "name": "ipython",
    "version": 3
   },
   "file_extension": ".py",
   "mimetype": "text/x-python",
   "name": "python",
   "nbconvert_exporter": "python",
   "pygments_lexer": "ipython3",
   "version": "3.8.3"
  }
 },
 "nbformat": 4,
 "nbformat_minor": 4
}
