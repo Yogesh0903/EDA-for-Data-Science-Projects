{
 "cells": [
  {
   "cell_type": "markdown",
   "metadata": {},
   "source": [
    "# Scenario :\n",
    "\n",
    "'Suppose you are working as compliance data science analyst in a firm. One of your task is to monitor internal communications in order to better understand employees’ moods and assess any potential risks. You can leverage sentiment analysis technology which has become a form of risk management and is emerging as a useful risk control tool for a variety of businesses to identify and address regulatory risk issues, compliance problems and potential fraud.'\n",
    "\n",
    "\n",
    "# Dataset Description :\n",
    "\n",
    "You have received a dataset which contains 3 columns:\n",
    "- ID (Unique identifier for a sentence)\n",
    "- label (1-Positive & 0-Negative)\n",
    "- Text (Sentences)\n",
    "\n",
    "# Evaluation Criteria :\n",
    "\n",
    "1. This assignment has been divided in to 3 sections. Section 3 will be evaluated only if you score well in the section 1 and section 2. \n",
    "2. Write your codes only in the coding area. You can add more cells for your analysis.\n",
    "3. You are not supposed to modify the original dataset.\n",
    "4. You can leverage R or Python programming language for solving the assignment.\n",
    "\n",
    "# Programming best practices :\n",
    "\n",
    "1. You need to explicitly import all the packages/libaries at the starting of the notebook.\n",
    "2. For any non trivial pieces of code, please write supporting comments.\n",
    "3. All the cells should run with no error.\n",
    "\n",
    "# Submission guidelines :\n",
    "\n",
    "There are 2 files you need to zip and attach:\n",
    "1. Final complied jupyter notebook.\n",
    "2. Save the Jupyter notebook as .html and attach the same."
   ]
  },
  {
   "cell_type": "markdown",
   "metadata": {},
   "source": [
    "################################################# Assignment start ###########################################################"
   ]
  },
  {
   "cell_type": "code",
   "execution_count": null,
   "metadata": {},
   "outputs": [],
   "source": [
    "# import the packages\n",
    "import nltk\n",
    "import scipy\n",
    "import warnings\n",
    "import numpy as np\n",
    "import pandas as pd\n",
    "import seaborn as sns\n",
    "nltk.download('punkt')\n",
    "nltk.download('wordnet')\n",
    "#import the nltk packages\n",
    "from scipy import special\n",
    "nltk.download('stopwords')\n",
    "from sklearn import metrics \n",
    "warnings.simplefilter('ignore')\n",
    "import matplotlib.pyplot as plt\n",
    "from nltk.corpus import stopwords\n",
    "from nltk.tokenize import word_tokenize \n",
    "from nltk.stem import WordNetLemmatizer\n",
    "from sklearn.metrics import confusion_matrix\n",
    "from sklearn.metrics import classification_report\n",
    "from sklearn.linear_model import LogisticRegression\n",
    "from sklearn.naive_bayes import GaussianNB\n",
    "from sklearn.tree import DecisionTreeClassifier\n",
    "from sklearn.neighbors import KNeighborsClassifier\n",
    "from sklearn.ensemble import RandomForestClassifier\n",
    "from sklearn.model_selection import train_test_split,cross_val_score,KFold"
   ]
  },
  {
   "cell_type": "code",
   "execution_count": null,
   "metadata": {},
   "outputs": [],
   "source": [
    "# Read the dataset\n",
    "\n",
    "harassment=pd.read_csv(\"sentiment_data.csv\")"
   ]
  },
  {
   "cell_type": "code",
   "execution_count": 149,
   "metadata": {},
   "outputs": [
    {
     "data": {
      "text/html": [
       "<div>\n",
       "<style scoped>\n",
       "    .dataframe tbody tr th:only-of-type {\n",
       "        vertical-align: middle;\n",
       "    }\n",
       "\n",
       "    .dataframe tbody tr th {\n",
       "        vertical-align: top;\n",
       "    }\n",
       "\n",
       "    .dataframe thead th {\n",
       "        text-align: right;\n",
       "    }\n",
       "</style>\n",
       "<table border=\"1\" class=\"dataframe\">\n",
       "  <thead>\n",
       "    <tr style=\"text-align: right;\">\n",
       "      <th></th>\n",
       "      <th>Text</th>\n",
       "      <th>label</th>\n",
       "      <th>ID</th>\n",
       "    </tr>\n",
       "  </thead>\n",
       "  <tbody>\n",
       "    <tr>\n",
       "      <th>0</th>\n",
       "      <td>i didnt feel humiliated</td>\n",
       "      <td>0</td>\n",
       "      <td>W0</td>\n",
       "    </tr>\n",
       "    <tr>\n",
       "      <th>1</th>\n",
       "      <td>i can go from feeling so hopeless to so damned...</td>\n",
       "      <td>0</td>\n",
       "      <td>W1</td>\n",
       "    </tr>\n",
       "    <tr>\n",
       "      <th>2</th>\n",
       "      <td>im grabbing a minute to post i feel greedy wrong</td>\n",
       "      <td>0</td>\n",
       "      <td>W2</td>\n",
       "    </tr>\n",
       "    <tr>\n",
       "      <th>3</th>\n",
       "      <td>i am ever feeling nostalgic about the fireplac...</td>\n",
       "      <td>1</td>\n",
       "      <td>W3</td>\n",
       "    </tr>\n",
       "    <tr>\n",
       "      <th>4</th>\n",
       "      <td>i am feeling grouchy</td>\n",
       "      <td>0</td>\n",
       "      <td>W4</td>\n",
       "    </tr>\n",
       "  </tbody>\n",
       "</table>\n",
       "</div>"
      ],
      "text/plain": [
       "                                                Text  label  ID\n",
       "0                            i didnt feel humiliated      0  W0\n",
       "1  i can go from feeling so hopeless to so damned...      0  W1\n",
       "2   im grabbing a minute to post i feel greedy wrong      0  W2\n",
       "3  i am ever feeling nostalgic about the fireplac...      1  W3\n",
       "4                               i am feeling grouchy      0  W4"
      ]
     },
     "execution_count": 149,
     "metadata": {},
     "output_type": "execute_result"
    }
   ],
   "source": [
    "harassment.head()"
   ]
  },
  {
   "cell_type": "markdown",
   "metadata": {},
   "source": [
    "### Section 1"
   ]
  },
  {
   "cell_type": "markdown",
   "metadata": {},
   "source": [
    "#### Q1. How many Unique Ids are there in the dataset ?  ( *Look for exact answer)"
   ]
  },
  {
   "cell_type": "code",
   "execution_count": 150,
   "metadata": {},
   "outputs": [
    {
     "data": {
      "text/plain": [
       "15423"
      ]
     },
     "execution_count": 150,
     "metadata": {},
     "output_type": "execute_result"
    }
   ],
   "source": [
    "#Ans: \n",
    "harassment['ID'].nunique()"
   ]
  },
  {
   "cell_type": "markdown",
   "metadata": {},
   "source": [
    "#### Q2. How many total missing values are there across all columns in the dataset?          ( *Look for exact answer)"
   ]
  },
  {
   "cell_type": "code",
   "execution_count": 151,
   "metadata": {},
   "outputs": [
    {
     "data": {
      "text/plain": [
       "11"
      ]
     },
     "execution_count": 151,
     "metadata": {},
     "output_type": "execute_result"
    }
   ],
   "source": [
    "#Ans: \n",
    "harassment.isna().sum().sum()"
   ]
  },
  {
   "cell_type": "markdown",
   "metadata": {},
   "source": [
    "#### Q3. How many rows are there in the dataset after dropping the rows containing the missing values and removing duplicates (keep first occurence in case of duplicates)? ( *Look for exact answer)"
   ]
  },
  {
   "cell_type": "code",
   "execution_count": 6,
   "metadata": {},
   "outputs": [
    {
     "data": {
      "text/plain": [
       "15417"
      ]
     },
     "execution_count": 6,
     "metadata": {},
     "output_type": "execute_result"
    }
   ],
   "source": [
    "#Ans:\n",
    "harassment.dropna().drop_duplicates(keep='first').shape[0]"
   ]
  },
  {
   "cell_type": "markdown",
   "metadata": {},
   "source": [
    "#### Q4. What is the percentage of positive labels in the dataset ? ( *Look for exact answer)"
   ]
  },
  {
   "cell_type": "code",
   "execution_count": 152,
   "metadata": {},
   "outputs": [
    {
     "data": {
      "text/plain": [
       "43.21"
      ]
     },
     "execution_count": 152,
     "metadata": {},
     "output_type": "execute_result"
    }
   ],
   "source": [
    "#Ans: \n",
    "round(harassment[harassment['label']==1].shape[0]*100/harassment.shape[0],2)"
   ]
  },
  {
   "cell_type": "code",
   "execution_count": 153,
   "metadata": {},
   "outputs": [
    {
     "name": "stdout",
     "output_type": "stream",
     "text": [
      "(15428,)\n",
      "(15428,)\n"
     ]
    }
   ],
   "source": [
    "# Create X and Y and print the shape\n",
    "\n",
    "X=harassment.Text\n",
    "y=harassment.label\n",
    "print(X.shape)\n",
    "print(y.shape)"
   ]
  },
  {
   "cell_type": "markdown",
   "metadata": {},
   "source": [
    "#### Q5. How many unique tokens are present in the dataset including stop words ? ( *Look for code and analysis)"
   ]
  },
  {
   "cell_type": "code",
   "execution_count": 154,
   "metadata": {},
   "outputs": [],
   "source": [
    "harrasment_copy =  harassment.copy()"
   ]
  },
  {
   "cell_type": "code",
   "execution_count": 155,
   "metadata": {},
   "outputs": [],
   "source": [
    "#Ans:\n",
    "\n",
    "harassment['Text']=harassment['Text'].apply(lambda x:word_tokenize(str(x)))\n",
    "#lambda function to tokenise each row of the Text column using nltk library"
   ]
  },
  {
   "cell_type": "code",
   "execution_count": 156,
   "metadata": {},
   "outputs": [
    {
     "data": {
      "text/plain": [
       "14913"
      ]
     },
     "execution_count": 156,
     "metadata": {},
     "output_type": "execute_result"
    }
   ],
   "source": [
    "all_words = [j for i in harassment['Text'] for j in i] #get all the words/tokens in a single list\n",
    "len(set(all_words)) #number of unique tokens/words including stop words"
   ]
  },
  {
   "cell_type": "markdown",
   "metadata": {},
   "source": [
    "#### Q6. How many unique tokens are present in the dataset excluding english stop words ? ( *Look for code and analysis)"
   ]
  },
  {
   "cell_type": "code",
   "execution_count": 157,
   "metadata": {},
   "outputs": [],
   "source": [
    "#Ans:\n",
    "stop_words = set(stopwords.words('english'))  #using nltk library to get the list of english stop-words\n",
    "def remove_stopwords(row):\n",
    "    row = row.split()   #function to remove the stop words from Text column\n",
    "    row_new = \" \".join([i for i in row if i not in stop_words])\n",
    "    return row_new"
   ]
  },
  {
   "cell_type": "code",
   "execution_count": 158,
   "metadata": {},
   "outputs": [],
   "source": [
    "harrasment_copy.dropna(inplace=True) #drop all the null values before applying lambda operation "
   ]
  },
  {
   "cell_type": "code",
   "execution_count": 159,
   "metadata": {},
   "outputs": [],
   "source": [
    "harrasment_copy['Text']=harrasment_copy['Text'].apply(remove_stopwords) #apply lambda to remove stopwords"
   ]
  },
  {
   "cell_type": "code",
   "execution_count": 160,
   "metadata": {},
   "outputs": [],
   "source": [
    "harrasment_copy['Text']=harrasment_copy['Text'].apply(lambda x:word_tokenize(str(x))) #tokensing the remaining Text column"
   ]
  },
  {
   "cell_type": "code",
   "execution_count": 161,
   "metadata": {},
   "outputs": [
    {
     "data": {
      "text/plain": [
       "14766"
      ]
     },
     "execution_count": 161,
     "metadata": {},
     "output_type": "execute_result"
    }
   ],
   "source": [
    "all_words_without_stop_words = [j for i in harrasment_copy['Text'] for j in i] \n",
    "len(set(all_words_without_stop_words)) #number of unique tokens/words excluding stop words"
   ]
  },
  {
   "cell_type": "markdown",
   "metadata": {},
   "source": [
    "### Section 2"
   ]
  },
  {
   "cell_type": "markdown",
   "metadata": {},
   "source": [
    "#### Q7. What is Zipf distribution and Plot Zipf distribution for 500 tokens in decreasing order including stop words ? ( *Look for descriptive answer, code and plot)"
   ]
  },
  {
   "cell_type": "markdown",
   "metadata": {},
   "source": [
    "The Zipf distribution (also known as the zeta distribution) is a continuous probability distribution that satisfies Zipf’s law: the frequency of an item is inversely proportional to its rank in a frequency table"
   ]
  },
  {
   "cell_type": "code",
   "execution_count": 18,
   "metadata": {},
   "outputs": [
    {
     "data": {
      "text/plain": [
       "{'i': 24920,\n",
       " 'feel': 10822,\n",
       " 'and': 9226,\n",
       " 'to': 8702,\n",
       " 'the': 8027,\n",
       " 'a': 5942,\n",
       " 'feeling': 4900,\n",
       " 'that': 4894,\n",
       " 'of': 4795,\n",
       " 'my': 4116,\n",
       " 'in': 3301,\n",
       " 'it': 2991,\n",
       " 'like': 2817,\n",
       " 'so': 2433,\n",
       " 'for': 2356,\n",
       " 'im': 2338,\n",
       " 'me': 2221,\n",
       " 'but': 2164,\n",
       " 'have': 2140,\n",
       " 'was': 2113,\n",
       " 'is': 2105,\n",
       " 'am': 2014,\n",
       " 'this': 2009,\n",
       " 'with': 1919,\n",
       " 'be': 1719,\n",
       " 'about': 1717,\n",
       " 'as': 1509,\n",
       " 'on': 1499,\n",
       " 'you': 1425,\n",
       " 'just': 1334,\n",
       " 'at': 1297,\n",
       " 'or': 1212,\n",
       " 'all': 1135,\n",
       " 'because': 1118,\n",
       " 'more': 1098,\n",
       " 'do': 1030,\n",
       " 'can': 1014,\n",
       " 'really': 901,\n",
       " 'up': 892,\n",
       " 't': 872,\n",
       " 'been': 827,\n",
       " 'know': 825,\n",
       " 'out': 774,\n",
       " 'time': 758,\n",
       " 'get': 722,\n",
       " 'had': 696,\n",
       " 'little': 692,\n",
       " 'now': 686,\n",
       " 'will': 677,\n",
       " 'from': 669,\n",
       " 'being': 665,\n",
       " 'would': 621,\n",
       " 'her': 614,\n",
       " 'some': 596,\n",
       " 'think': 573,\n",
       " 'ive': 567,\n",
       " 'still': 555,\n",
       " 'an': 550,\n",
       " 'who': 545,\n",
       " 'life': 529,\n",
       " 'make': 509,\n",
       " 'something': 497,\n",
       " 'much': 471,\n",
       " 'dont': 470,\n",
       " 'things': 460,\n",
       " 's': 453,\n",
       " 'no': 431,\n",
       " 'too': 430,\n",
       " 'm': 420,\n",
       " 'day': 416,\n",
       " 'she': 401,\n",
       " 'has': 393,\n",
       " 'go': 381,\n",
       " 'pretty': 376,\n",
       " 'your': 354,\n",
       " 'over': 325,\n",
       " 'work': 307,\n",
       " 'then': 306,\n",
       " 'feels': 301,\n",
       " 'around': 298,\n",
       " 'were': 295,\n",
       " 'made': 288,\n",
       " 'well': 270,\n",
       " 'though': 264,\n",
       " 'most': 262,\n",
       " 'help': 262,\n",
       " 'didnt': 259,\n",
       " 'never': 257,\n",
       " 'every': 244,\n",
       " 'someone': 242,\n",
       " 'where': 240,\n",
       " 'days': 239,\n",
       " 'doing': 238,\n",
       " 'enough': 232,\n",
       " 'sure': 220,\n",
       " 'ever': 214,\n",
       " 'why': 214,\n",
       " 'anything': 211,\n",
       " 'find': 206,\n",
       " 'without': 200,\n",
       " 'such': 190,\n",
       " 'trying': 180,\n",
       " 'few': 178,\n",
       " 'year': 175,\n",
       " 'able': 172,\n",
       " 'remember': 167,\n",
       " 'started': 166,\n",
       " 'alone': 163,\n",
       " 'let': 158,\n",
       " 'already': 158,\n",
       " 'two': 147,\n",
       " 'years': 146,\n",
       " 'write': 145,\n",
       " 'heart': 143,\n",
       " 'end': 143,\n",
       " 'morning': 137,\n",
       " 'god': 131,\n",
       " 'put': 130,\n",
       " 'anyone': 129,\n",
       " 'id': 126,\n",
       " 'point': 122,\n",
       " 'old': 118,\n",
       " 'body': 115,\n",
       " 'accepted': 111,\n",
       " 'post': 110,\n",
       " 'completely': 110,\n",
       " 'great': 104,\n",
       " 'mean': 101,\n",
       " 'lately': 98,\n",
       " 'real': 97,\n",
       " 'glad': 93,\n",
       " 'low': 92,\n",
       " 'wasnt': 91,\n",
       " 'become': 90,\n",
       " 'totally': 87,\n",
       " 'frustrated': 84,\n",
       " 'man': 83,\n",
       " 'overwhelmed': 80,\n",
       " 'saying': 79,\n",
       " 'child': 78,\n",
       " 'wrong': 70,\n",
       " 'usually': 70,\n",
       " 'energy': 69,\n",
       " 'experience': 67,\n",
       " 'embarrassed': 67,\n",
       " 'running': 66,\n",
       " 'hopeless': 65,\n",
       " 'greedy': 65,\n",
       " 'irritated': 64,\n",
       " 'fucked': 64,\n",
       " 'confused': 63,\n",
       " 'precious': 63,\n",
       " 'rejected': 62,\n",
       " 'burdened': 61,\n",
       " 'divine': 61,\n",
       " 'eat': 61,\n",
       " 'support': 60,\n",
       " 'hopeful': 59,\n",
       " 'began': 57,\n",
       " 'dissatisfied': 55,\n",
       " 'pathetic': 55,\n",
       " 'seeing': 54,\n",
       " 'superior': 54,\n",
       " 'kinda': 53,\n",
       " 'needs': 52,\n",
       " 'nostalgic': 51,\n",
       " 'humiliated': 50,\n",
       " 'romantic': 50,\n",
       " 'defeated': 49,\n",
       " 'etc': 48,\n",
       " 'course': 48,\n",
       " 'suffering': 46,\n",
       " 'jaded': 43,\n",
       " 'grateful': 43,\n",
       " 'list': 40,\n",
       " 'type': 37,\n",
       " 'imagine': 37,\n",
       " 'sentimental': 35,\n",
       " 'skeptical': 35,\n",
       " 'amused': 34,\n",
       " 'expect': 32,\n",
       " 'possible': 31,\n",
       " 'picture': 31,\n",
       " 'distressed': 31,\n",
       " 'emotionally': 31,\n",
       " 'explain': 30,\n",
       " 'general': 29,\n",
       " 'delighted': 29,\n",
       " 'grouchy': 27,\n",
       " 'huge': 27,\n",
       " 'inhibited': 27,\n",
       " 'five': 26,\n",
       " 'entirely': 26,\n",
       " 'minute': 24,\n",
       " 'elegant': 24,\n",
       " 'dead': 23,\n",
       " 'awake': 21,\n",
       " 'letter': 17,\n",
       " 'cares': 16,\n",
       " 'form': 16,\n",
       " 'kitchen': 16,\n",
       " 'perfectly': 16,\n",
       " 'teenager': 13,\n",
       " 'sympathy': 13,\n",
       " 'writer': 13,\n",
       " 'sign': 12,\n",
       " 'journal': 12,\n",
       " 'appalled': 12,\n",
       " 'spiritual': 10,\n",
       " 'collection': 10,\n",
       " 'value': 10,\n",
       " 'vintage': 9,\n",
       " 'grounded': 9,\n",
       " 'chicken': 9,\n",
       " 'nan': 8,\n",
       " 'elses': 8,\n",
       " 'painting': 8,\n",
       " 'wide': 8,\n",
       " 'connected': 8,\n",
       " 'publishing': 7,\n",
       " 'pour': 7,\n",
       " 'hill': 7,\n",
       " 'grabbing': 5,\n",
       " 'encounter': 5,\n",
       " 'corners': 5,\n",
       " 'giddy': 5,\n",
       " 'climbed': 5,\n",
       " 'damned': 4,\n",
       " 'property': 4,\n",
       " 'contract': 4,\n",
       " 'compromised': 4,\n",
       " 'encouragement': 4,\n",
       " 'fireplace': 3,\n",
       " 'profit': 3,\n",
       " 'thirsty': 3,\n",
       " 'immense': 3,\n",
       " 'agent': 3,\n",
       " 'grieving': 3,\n",
       " 'skirt': 3,\n",
       " 'acutely': 3,\n",
       " 'factor': 3,\n",
       " 'scenario': 3,\n",
       " 'petronas': 2,\n",
       " 'easiest': 2,\n",
       " 'dolls': 2,\n",
       " 'barbie': 2,\n",
       " 'unit': 2,\n",
       " 'lifeline': 2,\n",
       " 'measures': 2,\n",
       " 'pencil': 2,\n",
       " 'paced': 2,\n",
       " 'dent': 2,\n",
       " 'performed': 1,\n",
       " 'proto': 1,\n",
       " 'sixties': 1,\n",
       " 'strategies': 1,\n",
       " 'chai': 1,\n",
       " 'lenghth': 1,\n",
       " 'pp': 1,\n",
       " 'fitted': 1,\n",
       " 'hampered': 1}"
      ]
     },
     "execution_count": 18,
     "metadata": {},
     "output_type": "execute_result"
    }
   ],
   "source": [
    "#Ans:\n",
    "frequency_dict = {}\n",
    "for word in all_words[0:500]:\n",
    "    frequency_dict[word] = all_words.count(word)\n",
    "frequency_dict_sorted = {k:v for k,v in sorted(frequency_dict.items(), key=lambda x:x[1],reverse=True)}\n",
    "frequency_dict_sorted  # top 500 elements with their freuency in descending order "
   ]
  },
  {
   "cell_type": "code",
   "execution_count": 172,
   "metadata": {},
   "outputs": [
    {
     "data": {
      "image/png": "[encoded data removed]",
      "text/plain": [
       "<Figure size 864x360 with 1 Axes>"
      ]
     },
     "metadata": {
      "needs_background": "light"
     },
     "output_type": "display_data"
    }
   ],
   "source": [
    "#define zipf distribution parameter\n",
    "a = 2. \n",
    "#get list of values from frequency and convert to numpy array\n",
    "s = list(frequency_dict_sorted.values())\n",
    "s = np.array(s)\n",
    "# Display the histogram of the samples, along with the probability density function:\n",
    "plt.figure(figsize=(12,5))\n",
    "count, bins, ignored = plt.hist(s[s<500], 500)\n",
    "x = np.arange(1., 500.)\n",
    "y = x**(-a) / special.zetac(a)\n",
    "plt.plot(x, y/max(y), linewidth=6,color='r')\n",
    "plt.title('Zipf distribution for for 500 tokens in decreasing order including stop words')\n",
    "plt.show()\n"
   ]
  },
  {
   "cell_type": "markdown",
   "metadata": {},
   "source": [
    "#### Q8. Plot frequency disribution of top 50 tokens in negative data including stop words"
   ]
  },
  {
   "cell_type": "code",
   "execution_count": 20,
   "metadata": {},
   "outputs": [],
   "source": [
    "#Ans:\n",
    "df_negative = harassment[harassment['label']==0] #take only negative data set\n",
    "\n",
    "all_words_neg = [j for i in df_negative['Text'] for j in i] #list of all words in negative data set\n",
    "\n",
    "frequency_dict_neg = {}\n",
    "for word in all_words_neg:\n",
    "    frequency_dict_neg[word] = all_words_neg.count(word)\n",
    "\n",
    "# sorted frequency distribution dictionary for negative data set\n",
    "frequency_dict_sorted_neg = {k:v for k,v in sorted(frequency_dict_neg.items(), key=lambda x:x[1],reverse=True)}\n"
   ]
  },
  {
   "cell_type": "code",
   "execution_count": 24,
   "metadata": {},
   "outputs": [
    {
     "data": {
      "image/png": "[encoded data removed]",
      "text/plain": [
       "<Figure size 864x360 with 1 Axes>"
      ]
     },
     "metadata": {
      "needs_background": "light"
     },
     "output_type": "display_data"
    }
   ],
   "source": [
    "plt.figure(figsize=(12,5))\n",
    "\n",
    "frequency_dict_sorted_df_neg = pd.DataFrame(frequency_dict_sorted_neg.items(),columns=['words','count']) #converting dict to dataframe\n",
    "top_50_neg = list(frequency_dict_sorted_neg.keys())[0:50] #taking top50 words/tokens\n",
    "top_50_neg_df = frequency_dict_sorted_df_neg[frequency_dict_sorted_df_neg['words'].isin(top_50_neg)] \n",
    "\n",
    "#plot the top 50 words in negative data set including stop_words\n",
    "g = sns.barplot(top_50_neg_df['words'],top_50_neg_df['count'])\n",
    "g.set_xticklabels(labels=top_50_neg_df['words'],rotation=90)\n",
    "plt.title('frequency distribution of top 50 tokens in negative data including stop words')\n",
    "plt.show()"
   ]
  },
  {
   "cell_type": "markdown",
   "metadata": {},
   "source": [
    "#### Q9. Plot frequency disribution of top 50 tokens in positive data including stop words"
   ]
  },
  {
   "cell_type": "code",
   "execution_count": null,
   "metadata": {},
   "outputs": [],
   "source": [
    "#Ans:\n",
    "df_positive = harassment[harassment['label']==1] #taking only positive data set\n",
    "\n",
    "all_words_pos = [j for i in df_positive['Text'] for j in i]\n",
    "\n",
    "frequency_dict_pos = {}\n",
    "for word in all_words_pos:\n",
    "    frequency_dict_pos[word] = all_words_pos.count(word)\n",
    "frequency_dict_sorted_pos = {k:v for k,v in sorted(frequency_dict_pos.items(), key=lambda x:x[1],reverse=True)}\n",
    "frequency_dict_sorted_pos"
   ]
  },
  {
   "cell_type": "code",
   "execution_count": 29,
   "metadata": {},
   "outputs": [
    {
     "data": {
      "image/png": "[encoded data removed]",
      "text/plain": [
       "<Figure size 864x360 with 1 Axes>"
      ]
     },
     "metadata": {
      "needs_background": "light"
     },
     "output_type": "display_data"
    }
   ],
   "source": [
    "plt.figure(figsize=(12,5))\n",
    "frequency_dict_sorted_df_pos = pd.DataFrame(frequency_dict_sorted_pos.items(),columns=['words','count'])\n",
    "\n",
    "top_50_pos = list(frequency_dict_sorted_pos.keys())[0:50]\n",
    "top_50_pos_df = frequency_dict_sorted_df_pos[frequency_dict_sorted_df_pos['words'].isin(top_50_pos)]\n",
    "\n",
    "g = sns.barplot(top_50_pos_df['words'],top_50_pos_df['count'])\n",
    "g.set_xticklabels(labels=top_50_pos_df['words'],rotation=90)\n",
    "plt.title('frequency distribution of top 50 tokens in positive data including stop words')\n",
    "plt.show()"
   ]
  },
  {
   "cell_type": "markdown",
   "metadata": {},
   "source": [
    "### Section 3"
   ]
  },
  {
   "cell_type": "code",
   "execution_count": null,
   "metadata": {},
   "outputs": [],
   "source": [
    "# Use the following terminology (formulae) for this section:\n",
    "\n",
    "# 'pos frequency' means how many times a token has occurred in positive labeled data\n",
    "# 'neg frequency' means how many times a token has occurred in negative labeled data\n",
    "# 'pos rate' = (pos frequency)/ (pos frequency + neg frequency); Similarly, we can compute 'neg rate'\n",
    "# 'Total pos frequency' = sum of 'pos frequency' of all tokens; Similaryl, we can compute 'Total neg frequency'\n",
    "# 'pos_freq_pct' = (pos frequency)/ (Total pos frequency); Similarly, we can compute 'neg_freq_pct'\n"
   ]
  },
  {
   "cell_type": "code",
   "execution_count": 53,
   "metadata": {},
   "outputs": [],
   "source": [
    "#Ans:\n",
    "freq_table = pd.DataFrame()\n",
    "\n",
    "freq_table = pd.merge(frequency_dict_sorted_df_pos,frequency_dict_sorted_df_neg,how='outer',on='words').rename(columns={'count_x':'pos_frequency','count_y':'neg_frequency'}).fillna(0)\n",
    "\n",
    "freq_table['pos_rate'] =  round(freq_table['pos_frequency']/(freq_table['pos_frequency']+freq_table['neg_frequency']),2)\n",
    "freq_table['neg_rate'] =  round(freq_table['neg_frequency']/(freq_table['pos_frequency']+freq_table['neg_frequency']),2)\n",
    "\n",
    "\n",
    "print('Total positive frequency:',sum(freq_table['pos_frequency']))\n",
    "print('Total negative frequency:',sum(freq_table['neg_frequency']))\n",
    "\n",
    "freq_table['pos_freq_pct'] =  round(freq_table['pos_frequency']/(sum(freq_table['pos_frequency'])),2)\n",
    "freq_table['neg_freq_pct'] =  round(freq_table['neg_frequency']/(sum(freq_table['neg_frequency'])),2)"
   ]
  },
  {
   "cell_type": "code",
   "execution_count": 86,
   "metadata": {},
   "outputs": [],
   "source": [
    "freq_table['harmonic_pos_freq_pct'] =  round((2*freq_table['pos_frequency']*freq_table['pos_rate'])/(freq_table['pos_frequency']+freq_table['pos_rate']),2)\n",
    "freq_table['harmonic_neg_freq_pct'] =  round((2*freq_table['neg_frequency']*freq_table['neg_rate'])/(freq_table['neg_frequency']+freq_table['neg_rate']),2)"
   ]
  },
  {
   "cell_type": "code",
   "execution_count": 96,
   "metadata": {},
   "outputs": [],
   "source": [
    "freq_table['norm_cdf_pos_rate'] = scipy.stats.norm.cdf(freq_table['pos_rate'])\n",
    "freq_table['norm_cdf_neg_rate'] = scipy.stats.norm.cdf(freq_table['neg_rate'])\n",
    "freq_table['norm_cdf_pos_freq_pct'] = scipy.stats.norm.cdf(freq_table['pos_freq_pct'])\n",
    "freq_table['norm_cdf_neg_freq_pct'] = scipy.stats.norm.cdf(freq_table['neg_freq_pct'])\n"
   ]
  },
  {
   "cell_type": "code",
   "execution_count": 98,
   "metadata": {},
   "outputs": [],
   "source": [
    "freq_table['harmonic_pos_cdf'] =  round((2*freq_table['norm_cdf_pos_rate']*freq_table['norm_cdf_pos_freq_pct'])/(freq_table['norm_cdf_pos_freq_pct']+freq_table['norm_cdf_pos_rate']),2)\n",
    "freq_table['harmonic_neg_cdf'] =  round((2*freq_table['norm_cdf_neg_rate']*freq_table['norm_cdf_neg_freq_pct'])/(freq_table['norm_cdf_neg_rate']+freq_table['norm_cdf_neg_freq_pct']),2)"
   ]
  },
  {
   "cell_type": "markdown",
   "metadata": {},
   "source": [
    "### Feature Engineering --\n",
    "Above all the formulaes were used and different columns were created for analysis:\n",
    "1. 'pos frequency' means how many times a token has occurred in positive labeled data\n",
    "2. 'neg frequency' means how many times a token has occurred in negative labeled data\n",
    "3. 'pos rate' = (pos frequency)/ (pos frequency + neg frequency); Similarly, we can compute 'neg rate'\n",
    "4. 'pos_freq_pct' = (pos frequency)/ (Total pos frequency); Similarly, we can compute 'neg_freq_pct'\n",
    "5. harmonic_pos_freq_pct : harmonic mean between pos frequency and pos_freq_perc for each token\n",
    "6. harmonic_neg_freq_pct  :  harmonic mean between neg frequency and neg_freq_perc for each token\t\n",
    "7. norm_cdf_pos_rate\t: normal distibution cdf value of pos rate (mu=0.sig=1)\n",
    "8. norm_cdf_neg_rate\t: normal distibution cdf value of neg rate (mu=0.sig=1)\n",
    "9. norm_cdf_pos_freq_pct\t: normal distibution cdf value of pos freq pct (mu=0.sig=1)\n",
    "10. norm_cdf_neg_freq_pct\t: normal distibution cdf value of neg freq pct (mu=0.sig=1)\n",
    "11. harmonic_pos_cdf\t: harmonic mean between norm_cdf_pos_rate and norm_cdf_pos_freq_pct for each token\t\n",
    "12. harmonic_neg_cdf :  harmonic mean between norm_cdf_neg_rate and norm_cdf_neg_freq_pct for each token"
   ]
  },
  {
   "cell_type": "code",
   "execution_count": 173,
   "metadata": {},
   "outputs": [
    {
     "data": {
      "text/html": [
       "<div>\n",
       "<style scoped>\n",
       "    .dataframe tbody tr th:only-of-type {\n",
       "        vertical-align: middle;\n",
       "    }\n",
       "\n",
       "    .dataframe tbody tr th {\n",
       "        vertical-align: top;\n",
       "    }\n",
       "\n",
       "    .dataframe thead th {\n",
       "        text-align: right;\n",
       "    }\n",
       "</style>\n",
       "<table border=\"1\" class=\"dataframe\">\n",
       "  <thead>\n",
       "    <tr style=\"text-align: right;\">\n",
       "      <th></th>\n",
       "      <th>words</th>\n",
       "      <th>pos_frequency</th>\n",
       "      <th>neg_frequency</th>\n",
       "      <th>pos_rate</th>\n",
       "      <th>neg_rate</th>\n",
       "      <th>pos_freq_pct</th>\n",
       "      <th>neg_freq_pct</th>\n",
       "      <th>harmonic_pos_freq_pct</th>\n",
       "      <th>harmonic_neg_freq_pct</th>\n",
       "      <th>norm_cdf_pos_rate</th>\n",
       "      <th>norm_cdf_neg_rate</th>\n",
       "      <th>norm_cdf_pos_freq_pct</th>\n",
       "      <th>norm_cdf_neg_freq_pct</th>\n",
       "      <th>harmonic_pos_cdf</th>\n",
       "      <th>harmonic_neg_cdf</th>\n",
       "    </tr>\n",
       "  </thead>\n",
       "  <tbody>\n",
       "    <tr>\n",
       "      <th>0</th>\n",
       "      <td>i</td>\n",
       "      <td>10635.0</td>\n",
       "      <td>14285.0</td>\n",
       "      <td>0.43</td>\n",
       "      <td>0.57</td>\n",
       "      <td>0.08</td>\n",
       "      <td>0.09</td>\n",
       "      <td>0.86</td>\n",
       "      <td>1.14</td>\n",
       "      <td>0.666402</td>\n",
       "      <td>0.715661</td>\n",
       "      <td>0.531881</td>\n",
       "      <td>0.535856</td>\n",
       "      <td>0.59</td>\n",
       "      <td>0.61</td>\n",
       "    </tr>\n",
       "    <tr>\n",
       "      <th>1</th>\n",
       "      <td>feel</td>\n",
       "      <td>4854.0</td>\n",
       "      <td>5968.0</td>\n",
       "      <td>0.45</td>\n",
       "      <td>0.55</td>\n",
       "      <td>0.04</td>\n",
       "      <td>0.04</td>\n",
       "      <td>0.90</td>\n",
       "      <td>1.10</td>\n",
       "      <td>0.673645</td>\n",
       "      <td>0.708840</td>\n",
       "      <td>0.515953</td>\n",
       "      <td>0.515953</td>\n",
       "      <td>0.58</td>\n",
       "      <td>0.60</td>\n",
       "    </tr>\n",
       "    <tr>\n",
       "      <th>2</th>\n",
       "      <td>and</td>\n",
       "      <td>4171.0</td>\n",
       "      <td>5055.0</td>\n",
       "      <td>0.45</td>\n",
       "      <td>0.55</td>\n",
       "      <td>0.03</td>\n",
       "      <td>0.03</td>\n",
       "      <td>0.90</td>\n",
       "      <td>1.10</td>\n",
       "      <td>0.673645</td>\n",
       "      <td>0.708840</td>\n",
       "      <td>0.511966</td>\n",
       "      <td>0.511966</td>\n",
       "      <td>0.58</td>\n",
       "      <td>0.59</td>\n",
       "    </tr>\n",
       "    <tr>\n",
       "      <th>3</th>\n",
       "      <td>to</td>\n",
       "      <td>4092.0</td>\n",
       "      <td>4610.0</td>\n",
       "      <td>0.47</td>\n",
       "      <td>0.53</td>\n",
       "      <td>0.03</td>\n",
       "      <td>0.03</td>\n",
       "      <td>0.94</td>\n",
       "      <td>1.06</td>\n",
       "      <td>0.680822</td>\n",
       "      <td>0.701944</td>\n",
       "      <td>0.511966</td>\n",
       "      <td>0.511966</td>\n",
       "      <td>0.58</td>\n",
       "      <td>0.59</td>\n",
       "    </tr>\n",
       "    <tr>\n",
       "      <th>4</th>\n",
       "      <td>the</td>\n",
       "      <td>3771.0</td>\n",
       "      <td>4256.0</td>\n",
       "      <td>0.47</td>\n",
       "      <td>0.53</td>\n",
       "      <td>0.03</td>\n",
       "      <td>0.03</td>\n",
       "      <td>0.94</td>\n",
       "      <td>1.06</td>\n",
       "      <td>0.680822</td>\n",
       "      <td>0.701944</td>\n",
       "      <td>0.511966</td>\n",
       "      <td>0.511966</td>\n",
       "      <td>0.58</td>\n",
       "      <td>0.59</td>\n",
       "    </tr>\n",
       "  </tbody>\n",
       "</table>\n",
       "</div>"
      ],
      "text/plain": [
       "  words  pos_frequency  neg_frequency  pos_rate  neg_rate  pos_freq_pct  \\\n",
       "0     i        10635.0        14285.0      0.43      0.57          0.08   \n",
       "1  feel         4854.0         5968.0      0.45      0.55          0.04   \n",
       "2   and         4171.0         5055.0      0.45      0.55          0.03   \n",
       "3    to         4092.0         4610.0      0.47      0.53          0.03   \n",
       "4   the         3771.0         4256.0      0.47      0.53          0.03   \n",
       "\n",
       "   neg_freq_pct  harmonic_pos_freq_pct  harmonic_neg_freq_pct  \\\n",
       "0          0.09                   0.86                   1.14   \n",
       "1          0.04                   0.90                   1.10   \n",
       "2          0.03                   0.90                   1.10   \n",
       "3          0.03                   0.94                   1.06   \n",
       "4          0.03                   0.94                   1.06   \n",
       "\n",
       "   norm_cdf_pos_rate  norm_cdf_neg_rate  norm_cdf_pos_freq_pct  \\\n",
       "0           0.666402           0.715661               0.531881   \n",
       "1           0.673645           0.708840               0.515953   \n",
       "2           0.673645           0.708840               0.511966   \n",
       "3           0.680822           0.701944               0.511966   \n",
       "4           0.680822           0.701944               0.511966   \n",
       "\n",
       "   norm_cdf_neg_freq_pct  harmonic_pos_cdf  harmonic_neg_cdf  \n",
       "0               0.535856              0.59              0.61  \n",
       "1               0.515953              0.58              0.60  \n",
       "2               0.511966              0.58              0.59  \n",
       "3               0.511966              0.58              0.59  \n",
       "4               0.511966              0.58              0.59  "
      ]
     },
     "execution_count": 173,
     "metadata": {},
     "output_type": "execute_result"
    }
   ],
   "source": [
    "freq_table.head()  # data preview after creating columns "
   ]
  },
  {
   "cell_type": "markdown",
   "metadata": {},
   "source": [
    "#### Q10. Plot the relationship between (pos frequency) & (neg frequency) for each token\n"
   ]
  },
  {
   "cell_type": "code",
   "execution_count": 174,
   "metadata": {},
   "outputs": [
    {
     "data": {
      "image/png": "[encoded data removed]",
      "text/plain": [
       "<Figure size 432x288 with 1 Axes>"
      ]
     },
     "metadata": {
      "needs_background": "light"
     },
     "output_type": "display_data"
    }
   ],
   "source": [
    "sns.scatterplot(freq_table['pos_frequency'],freq_table['neg_frequency'])\n",
    "plt.show()"
   ]
  },
  {
   "cell_type": "markdown",
   "metadata": {},
   "source": [
    "### We can observe from the above plot that :\n",
    "1. if the frequency of the word/token is less in negative data , then it also low in positive data.\n",
    "2. if the frequency of the word/token is high in negative data , then it is also high in positive data.\n",
    "3. We can not infer from here the magnitude of correlatoion but the direction that they are positively correlated."
   ]
  },
  {
   "cell_type": "markdown",
   "metadata": {},
   "source": [
    "#### Q11. Plot the relationship between (harmonic mean between pos rate and pos_freq_pct) & (harmonic mean between neg rate and neg_freq_pct) for each token"
   ]
  },
  {
   "cell_type": "code",
   "execution_count": 175,
   "metadata": {},
   "outputs": [
    {
     "data": {
      "image/png": "[encoded data removed]",
      "text/plain": [
       "<Figure size 432x288 with 1 Axes>"
      ]
     },
     "metadata": {
      "needs_background": "light"
     },
     "output_type": "display_data"
    }
   ],
   "source": [
    "sns.lineplot(freq_table['harmonic_pos_freq_pct'],freq_table['harmonic_neg_freq_pct'])\n",
    "plt.show()"
   ]
  },
  {
   "cell_type": "code",
   "execution_count": 179,
   "metadata": {},
   "outputs": [
    {
     "data": {
      "image/png": "[encoded data removed]",
      "text/plain": [
       "<Figure size 432x288 with 2 Axes>"
      ]
     },
     "metadata": {
      "needs_background": "light"
     },
     "output_type": "display_data"
    }
   ],
   "source": [
    "sns.heatmap(freq_table[['harmonic_pos_freq_pct','harmonic_neg_freq_pct']].corr(),annot=True)\n",
    "plt.show()"
   ]
  },
  {
   "cell_type": "markdown",
   "metadata": {},
   "source": [
    "### We can observe from the above plot that :\n",
    "\n",
    "1. Since we are dealing with ratios , it makes sense to use harmonic mean to calculte the mean as the scales are different and it should take care of the denominator .\n",
    "\n",
    "2. harmonic mean value of frequency of words/tokens in  positive data is correralted negatively with the mean value of frequency of words present in negative data .\n"
   ]
  },
  {
   "cell_type": "markdown",
   "metadata": {},
   "source": [
    "#### Q12. Plot the relationship between (harmonic mean between normal distribution cdf of pos rate and normal distribution cdf of pos_freq_pct) & (harmonic mean between normal distribution cdf of neg rate and normal distribution cdf of neg_freq_pct) for each token"
   ]
  },
  {
   "cell_type": "code",
   "execution_count": 100,
   "metadata": {},
   "outputs": [
    {
     "data": {
      "image/png": "[encoded data removed]",
      "text/plain": [
       "<Figure size 432x288 with 1 Axes>"
      ]
     },
     "metadata": {
      "needs_background": "light"
     },
     "output_type": "display_data"
    }
   ],
   "source": [
    "sns.scatterplot(freq_table['harmonic_pos_cdf'],freq_table['harmonic_neg_cdf'])\n",
    "plt.show()"
   ]
  },
  {
   "cell_type": "code",
   "execution_count": 180,
   "metadata": {},
   "outputs": [
    {
     "data": {
      "image/png": "[encoded data removed]",
      "text/plain": [
       "<Figure size 432x288 with 2 Axes>"
      ]
     },
     "metadata": {
      "needs_background": "light"
     },
     "output_type": "display_data"
    }
   ],
   "source": [
    "sns.heatmap(freq_table[['harmonic_pos_cdf','harmonic_neg_cdf']].corr(),annot=True)\n",
    "plt.show()"
   ]
  },
  {
   "cell_type": "markdown",
   "metadata": {},
   "source": [
    "### We can observe from the above plot that :\n",
    "when normally distibuted the words are pretty much different in both the negative data set and frequency of words are negatively correlated in both the labels .Also , we can see that in the middle there is a slight bump which tells us that few highly frequent words like \"i\",\"feel\" , 'and' etc are present in almost same amount in both the labels."
   ]
  },
  {
   "cell_type": "markdown",
   "metadata": {},
   "source": [
    "\n",
    "\n",
    "#### Q13. Which plot out of the above 3 better explains the relationships between words in neg and pos rows. Why ?\n"
   ]
  },
  {
   "cell_type": "markdown",
   "metadata": {},
   "source": [
    "As far as all the three graphs are concerned ,third graph explains the relationship between words in neg and pos rows the most.\n",
    "Reasons are listed below :\n",
    "1. when normally distibuted the words are pretty much different in both the negative data set and frequency of words are negatively correlated in both the labels .Also , we can see that in the middle there is a slight bump which tells us that few highly frequent words like \"i\",\"feel\" , 'and' etc are present in almost same amount in both the labels.\n",
    "2. It takes care of the highly frequent words other than stop words also and tells us the correct scenario that there are different kind of words used in positive and negative data"
   ]
  },
  {
   "cell_type": "markdown",
   "metadata": {},
   "source": [
    "#### Q14. Suppose we want to build a machine learning model to predict whether a given sentence has positive or negative sentiment. Explain the entire pipeline highlighting the various steps and algorithms for the same."
   ]
  },
  {
   "cell_type": "code",
   "execution_count": 181,
   "metadata": {},
   "outputs": [],
   "source": [
    "df=pd.read_csv(\"sentiment_data.csv\") # read the data fresh for ML algos"
   ]
  },
  {
   "cell_type": "code",
   "execution_count": 183,
   "metadata": {},
   "outputs": [
    {
     "data": {
      "text/html": [
       "<div>\n",
       "<style scoped>\n",
       "    .dataframe tbody tr th:only-of-type {\n",
       "        vertical-align: middle;\n",
       "    }\n",
       "\n",
       "    .dataframe tbody tr th {\n",
       "        vertical-align: top;\n",
       "    }\n",
       "\n",
       "    .dataframe thead th {\n",
       "        text-align: right;\n",
       "    }\n",
       "</style>\n",
       "<table border=\"1\" class=\"dataframe\">\n",
       "  <thead>\n",
       "    <tr style=\"text-align: right;\">\n",
       "      <th></th>\n",
       "      <th>Text</th>\n",
       "      <th>label</th>\n",
       "      <th>ID</th>\n",
       "    </tr>\n",
       "  </thead>\n",
       "  <tbody>\n",
       "    <tr>\n",
       "      <th>0</th>\n",
       "      <td>i didnt feel humiliated</td>\n",
       "      <td>0</td>\n",
       "      <td>W0</td>\n",
       "    </tr>\n",
       "    <tr>\n",
       "      <th>1</th>\n",
       "      <td>i can go from feeling so hopeless to so damned...</td>\n",
       "      <td>0</td>\n",
       "      <td>W1</td>\n",
       "    </tr>\n",
       "    <tr>\n",
       "      <th>2</th>\n",
       "      <td>im grabbing a minute to post i feel greedy wrong</td>\n",
       "      <td>0</td>\n",
       "      <td>W2</td>\n",
       "    </tr>\n",
       "    <tr>\n",
       "      <th>3</th>\n",
       "      <td>i am ever feeling nostalgic about the fireplac...</td>\n",
       "      <td>1</td>\n",
       "      <td>W3</td>\n",
       "    </tr>\n",
       "    <tr>\n",
       "      <th>4</th>\n",
       "      <td>i am feeling grouchy</td>\n",
       "      <td>0</td>\n",
       "      <td>W4</td>\n",
       "    </tr>\n",
       "  </tbody>\n",
       "</table>\n",
       "</div>"
      ],
      "text/plain": [
       "                                                Text  label  ID\n",
       "0                            i didnt feel humiliated      0  W0\n",
       "1  i can go from feeling so hopeless to so damned...      0  W1\n",
       "2   im grabbing a minute to post i feel greedy wrong      0  W2\n",
       "3  i am ever feeling nostalgic about the fireplac...      1  W3\n",
       "4                               i am feeling grouchy      0  W4"
      ]
     },
     "execution_count": 183,
     "metadata": {},
     "output_type": "execute_result"
    }
   ],
   "source": [
    "df.head() #preview of the data"
   ]
  },
  {
   "cell_type": "markdown",
   "metadata": {},
   "source": [
    "### Data preprocessing"
   ]
  },
  {
   "cell_type": "code",
   "execution_count": 184,
   "metadata": {},
   "outputs": [],
   "source": [
    "df = df.drop('ID',1).dropna().drop_duplicates(keep='first')  #drop the unused column,NAN and missing values,duplicates"
   ]
  },
  {
   "cell_type": "code",
   "execution_count": 112,
   "metadata": {},
   "outputs": [],
   "source": [
    "df_process = df.copy(deep=True) #create a duplicate copy of the data set."
   ]
  },
  {
   "cell_type": "code",
   "execution_count": null,
   "metadata": {},
   "outputs": [],
   "source": [
    "# Since the data is balanced there is no need for sampling."
   ]
  },
  {
   "cell_type": "code",
   "execution_count": 113,
   "metadata": {},
   "outputs": [
    {
     "data": {
      "text/html": [
       "<div>\n",
       "<style scoped>\n",
       "    .dataframe tbody tr th:only-of-type {\n",
       "        vertical-align: middle;\n",
       "    }\n",
       "\n",
       "    .dataframe tbody tr th {\n",
       "        vertical-align: top;\n",
       "    }\n",
       "\n",
       "    .dataframe thead th {\n",
       "        text-align: right;\n",
       "    }\n",
       "</style>\n",
       "<table border=\"1\" class=\"dataframe\">\n",
       "  <thead>\n",
       "    <tr style=\"text-align: right;\">\n",
       "      <th></th>\n",
       "      <th>Text</th>\n",
       "      <th>label</th>\n",
       "    </tr>\n",
       "  </thead>\n",
       "  <tbody>\n",
       "    <tr>\n",
       "      <th>0</th>\n",
       "      <td>i didnt feel humiliated</td>\n",
       "      <td>0</td>\n",
       "    </tr>\n",
       "    <tr>\n",
       "      <th>1</th>\n",
       "      <td>i can go from feeling so hopeless to so damned...</td>\n",
       "      <td>0</td>\n",
       "    </tr>\n",
       "    <tr>\n",
       "      <th>2</th>\n",
       "      <td>im grabbing a minute to post i feel greedy wrong</td>\n",
       "      <td>0</td>\n",
       "    </tr>\n",
       "    <tr>\n",
       "      <th>3</th>\n",
       "      <td>i am ever feeling nostalgic about the fireplac...</td>\n",
       "      <td>1</td>\n",
       "    </tr>\n",
       "    <tr>\n",
       "      <th>4</th>\n",
       "      <td>i am feeling grouchy</td>\n",
       "      <td>0</td>\n",
       "    </tr>\n",
       "  </tbody>\n",
       "</table>\n",
       "</div>"
      ],
      "text/plain": [
       "                                                Text  label\n",
       "0                            i didnt feel humiliated      0\n",
       "1  i can go from feeling so hopeless to so damned...      0\n",
       "2   im grabbing a minute to post i feel greedy wrong      0\n",
       "3  i am ever feeling nostalgic about the fireplac...      1\n",
       "4                               i am feeling grouchy      0"
      ]
     },
     "execution_count": 113,
     "metadata": {},
     "output_type": "execute_result"
    }
   ],
   "source": [
    "\n",
    "#lowering the case of all the text\n",
    "df_process['Text'] =df_process['Text'].apply(lambda x: str(x).lower()) \n",
    "df_process.head()"
   ]
  },
  {
   "cell_type": "code",
   "execution_count": 116,
   "metadata": {},
   "outputs": [
    {
     "data": {
      "text/html": [
       "<div>\n",
       "<style scoped>\n",
       "    .dataframe tbody tr th:only-of-type {\n",
       "        vertical-align: middle;\n",
       "    }\n",
       "\n",
       "    .dataframe tbody tr th {\n",
       "        vertical-align: top;\n",
       "    }\n",
       "\n",
       "    .dataframe thead th {\n",
       "        text-align: right;\n",
       "    }\n",
       "</style>\n",
       "<table border=\"1\" class=\"dataframe\">\n",
       "  <thead>\n",
       "    <tr style=\"text-align: right;\">\n",
       "      <th></th>\n",
       "      <th>Text</th>\n",
       "      <th>label</th>\n",
       "    </tr>\n",
       "  </thead>\n",
       "  <tbody>\n",
       "    <tr>\n",
       "      <th>0</th>\n",
       "      <td>i didnt feel humiliated</td>\n",
       "      <td>0</td>\n",
       "    </tr>\n",
       "    <tr>\n",
       "      <th>1</th>\n",
       "      <td>i can go from feeling so hopeless to so damned...</td>\n",
       "      <td>0</td>\n",
       "    </tr>\n",
       "    <tr>\n",
       "      <th>2</th>\n",
       "      <td>im grabbing a minute to post i feel greedy wrong</td>\n",
       "      <td>0</td>\n",
       "    </tr>\n",
       "    <tr>\n",
       "      <th>3</th>\n",
       "      <td>i am ever feeling nostalgic about the fireplac...</td>\n",
       "      <td>1</td>\n",
       "    </tr>\n",
       "    <tr>\n",
       "      <th>4</th>\n",
       "      <td>i am feeling grouchy</td>\n",
       "      <td>0</td>\n",
       "    </tr>\n",
       "  </tbody>\n",
       "</table>\n",
       "</div>"
      ],
      "text/plain": [
       "                                                Text  label\n",
       "0                            i didnt feel humiliated      0\n",
       "1  i can go from feeling so hopeless to so damned...      0\n",
       "2   im grabbing a minute to post i feel greedy wrong      0\n",
       "3  i am ever feeling nostalgic about the fireplac...      1\n",
       "4                               i am feeling grouchy      0"
      ]
     },
     "execution_count": 116,
     "metadata": {},
     "output_type": "execute_result"
    }
   ],
   "source": [
    "# Remove punctuations\n",
    "df_process['Text']=df_process['Text'].apply(lambda x: x.translate({ord(c):'' for c in \"[!”#$%&’()*+,-./:;<=>?@[\\]^_`{|}~]\"}))\n",
    "df_process.head()"
   ]
  },
  {
   "cell_type": "code",
   "execution_count": 117,
   "metadata": {},
   "outputs": [],
   "source": [
    "df_process['Text']=df_process['Text'].apply(lambda x: x.strip()) #strip the spaces"
   ]
  },
  {
   "cell_type": "code",
   "execution_count": 118,
   "metadata": {},
   "outputs": [],
   "source": [
    "#Remove stop words\n",
    "stop_words = set(stopwords.words('english'))\n",
    "def remove_stopwords(row):\n",
    "    row = row.split()\n",
    "    row_new = \" \".join([i for i in row if i not in stop_words])\n",
    "    return row_new\n",
    "df_process['Text']=df_process['Text'].apply(remove_stopwords)\n"
   ]
  },
  {
   "cell_type": "code",
   "execution_count": 119,
   "metadata": {},
   "outputs": [
    {
     "data": {
      "text/html": [
       "<div>\n",
       "<style scoped>\n",
       "    .dataframe tbody tr th:only-of-type {\n",
       "        vertical-align: middle;\n",
       "    }\n",
       "\n",
       "    .dataframe tbody tr th {\n",
       "        vertical-align: top;\n",
       "    }\n",
       "\n",
       "    .dataframe thead th {\n",
       "        text-align: right;\n",
       "    }\n",
       "</style>\n",
       "<table border=\"1\" class=\"dataframe\">\n",
       "  <thead>\n",
       "    <tr style=\"text-align: right;\">\n",
       "      <th></th>\n",
       "      <th>Text</th>\n",
       "      <th>label</th>\n",
       "    </tr>\n",
       "  </thead>\n",
       "  <tbody>\n",
       "    <tr>\n",
       "      <th>0</th>\n",
       "      <td>didnt feel humiliated</td>\n",
       "      <td>0</td>\n",
       "    </tr>\n",
       "    <tr>\n",
       "      <th>1</th>\n",
       "      <td>go feeling hopeless damned hopeful around some...</td>\n",
       "      <td>0</td>\n",
       "    </tr>\n",
       "    <tr>\n",
       "      <th>2</th>\n",
       "      <td>im grabbing minute post feel greedy wrong</td>\n",
       "      <td>0</td>\n",
       "    </tr>\n",
       "    <tr>\n",
       "      <th>3</th>\n",
       "      <td>ever feeling nostalgic fireplace know still pr...</td>\n",
       "      <td>1</td>\n",
       "    </tr>\n",
       "    <tr>\n",
       "      <th>4</th>\n",
       "      <td>feeling grouchy</td>\n",
       "      <td>0</td>\n",
       "    </tr>\n",
       "  </tbody>\n",
       "</table>\n",
       "</div>"
      ],
      "text/plain": [
       "                                                Text  label\n",
       "0                              didnt feel humiliated      0\n",
       "1  go feeling hopeless damned hopeful around some...      0\n",
       "2          im grabbing minute post feel greedy wrong      0\n",
       "3  ever feeling nostalgic fireplace know still pr...      1\n",
       "4                                    feeling grouchy      0"
      ]
     },
     "execution_count": 119,
     "metadata": {},
     "output_type": "execute_result"
    }
   ],
   "source": [
    "df_process.head()"
   ]
  },
  {
   "cell_type": "code",
   "execution_count": 185,
   "metadata": {},
   "outputs": [
    {
     "data": {
      "text/html": [
       "<div>\n",
       "<style scoped>\n",
       "    .dataframe tbody tr th:only-of-type {\n",
       "        vertical-align: middle;\n",
       "    }\n",
       "\n",
       "    .dataframe tbody tr th {\n",
       "        vertical-align: top;\n",
       "    }\n",
       "\n",
       "    .dataframe thead th {\n",
       "        text-align: right;\n",
       "    }\n",
       "</style>\n",
       "<table border=\"1\" class=\"dataframe\">\n",
       "  <thead>\n",
       "    <tr style=\"text-align: right;\">\n",
       "      <th></th>\n",
       "      <th>Text</th>\n",
       "      <th>label</th>\n",
       "    </tr>\n",
       "  </thead>\n",
       "  <tbody>\n",
       "    <tr>\n",
       "      <th>0</th>\n",
       "      <td>[didnt, feel, humiliated]</td>\n",
       "      <td>0</td>\n",
       "    </tr>\n",
       "    <tr>\n",
       "      <th>1</th>\n",
       "      <td>[go, feeling, hopeless, damned, hopeful, aroun...</td>\n",
       "      <td>0</td>\n",
       "    </tr>\n",
       "    <tr>\n",
       "      <th>2</th>\n",
       "      <td>[im, grabbing, minute, post, feel, greedy, wrong]</td>\n",
       "      <td>0</td>\n",
       "    </tr>\n",
       "    <tr>\n",
       "      <th>3</th>\n",
       "      <td>[ever, feeling, nostalgic, fireplace, know, st...</td>\n",
       "      <td>1</td>\n",
       "    </tr>\n",
       "    <tr>\n",
       "      <th>4</th>\n",
       "      <td>[feeling, grouchy]</td>\n",
       "      <td>0</td>\n",
       "    </tr>\n",
       "  </tbody>\n",
       "</table>\n",
       "</div>"
      ],
      "text/plain": [
       "                                                Text  label\n",
       "0                          [didnt, feel, humiliated]      0\n",
       "1  [go, feeling, hopeless, damned, hopeful, aroun...      0\n",
       "2  [im, grabbing, minute, post, feel, greedy, wrong]      0\n",
       "3  [ever, feeling, nostalgic, fireplace, know, st...      1\n",
       "4                                 [feeling, grouchy]      0"
      ]
     },
     "execution_count": 185,
     "metadata": {},
     "output_type": "execute_result"
    }
   ],
   "source": [
    "#tokenise the data for lemmatisation\n",
    "df_process['Text']=df_process['Text'].apply(lambda x:word_tokenize(x))\n",
    "df_process.head()"
   ]
  },
  {
   "cell_type": "code",
   "execution_count": 186,
   "metadata": {},
   "outputs": [],
   "source": [
    "#lemaatize the tokens to the root\n",
    "lemmatizer = WordNetLemmatizer()\n",
    "def lemmatize_root(row):\n",
    "    new = []\n",
    "    new = [lemmatizer.lemmatize(x) for x in row ] \n",
    "    return ' '.join(new)\n",
    "df_process['Text']=df_process['Text'].apply(lemmatize_root)"
   ]
  },
  {
   "cell_type": "code",
   "execution_count": 187,
   "metadata": {},
   "outputs": [
    {
     "data": {
      "text/html": [
       "<div>\n",
       "<style scoped>\n",
       "    .dataframe tbody tr th:only-of-type {\n",
       "        vertical-align: middle;\n",
       "    }\n",
       "\n",
       "    .dataframe tbody tr th {\n",
       "        vertical-align: top;\n",
       "    }\n",
       "\n",
       "    .dataframe thead th {\n",
       "        text-align: right;\n",
       "    }\n",
       "</style>\n",
       "<table border=\"1\" class=\"dataframe\">\n",
       "  <thead>\n",
       "    <tr style=\"text-align: right;\">\n",
       "      <th></th>\n",
       "      <th>Text</th>\n",
       "      <th>label</th>\n",
       "    </tr>\n",
       "  </thead>\n",
       "  <tbody>\n",
       "    <tr>\n",
       "      <th>0</th>\n",
       "      <td>didnt feel humiliated</td>\n",
       "      <td>0</td>\n",
       "    </tr>\n",
       "    <tr>\n",
       "      <th>1</th>\n",
       "      <td>go feeling hopeless damned hopeful around some...</td>\n",
       "      <td>0</td>\n",
       "    </tr>\n",
       "    <tr>\n",
       "      <th>2</th>\n",
       "      <td>im grabbing minute post feel greedy wrong</td>\n",
       "      <td>0</td>\n",
       "    </tr>\n",
       "    <tr>\n",
       "      <th>3</th>\n",
       "      <td>ever feeling nostalgic fireplace know still pr...</td>\n",
       "      <td>1</td>\n",
       "    </tr>\n",
       "    <tr>\n",
       "      <th>4</th>\n",
       "      <td>feeling grouchy</td>\n",
       "      <td>0</td>\n",
       "    </tr>\n",
       "  </tbody>\n",
       "</table>\n",
       "</div>"
      ],
      "text/plain": [
       "                                                Text  label\n",
       "0                              didnt feel humiliated      0\n",
       "1  go feeling hopeless damned hopeful around some...      0\n",
       "2          im grabbing minute post feel greedy wrong      0\n",
       "3  ever feeling nostalgic fireplace know still pr...      1\n",
       "4                                    feeling grouchy      0"
      ]
     },
     "execution_count": 187,
     "metadata": {},
     "output_type": "execute_result"
    }
   ],
   "source": [
    "df_process.head()"
   ]
  },
  {
   "cell_type": "markdown",
   "metadata": {},
   "source": [
    "### Splitting the data"
   ]
  },
  {
   "cell_type": "code",
   "execution_count": 188,
   "metadata": {},
   "outputs": [],
   "source": [
    "X_train, X_test, y_train, y_test = train_test_split(df_process['Text'], df_process['label'], test_size=0.3, random_state=0)"
   ]
  },
  {
   "cell_type": "code",
   "execution_count": 136,
   "metadata": {},
   "outputs": [
    {
     "name": "stdout",
     "output_type": "stream",
     "text": [
      "(10777,) (4619,) (10777,) (4619,)\n"
     ]
    }
   ],
   "source": [
    "print(X_train.shape, X_test.shape, y_train.shape, y_test.shape)"
   ]
  },
  {
   "cell_type": "markdown",
   "metadata": {},
   "source": [
    "### BOW using TF-IDF , converting words to numeric values"
   ]
  },
  {
   "cell_type": "code",
   "execution_count": 138,
   "metadata": {},
   "outputs": [
    {
     "data": {
      "text/plain": [
       "TfidfVectorizer()"
      ]
     },
     "execution_count": 138,
     "metadata": {},
     "output_type": "execute_result"
    }
   ],
   "source": [
    "from sklearn.feature_extraction.text import TfidfVectorizer\n",
    "vectorizer = TfidfVectorizer()  # TF-IDF vectorise for vectorisation\n",
    "vectorizer.fit(X_train)\n"
   ]
  },
  {
   "cell_type": "code",
   "execution_count": 139,
   "metadata": {},
   "outputs": [],
   "source": [
    "train_data = vectorizer.transform(X_train)\n",
    "test_data = vectorizer.transform(X_test)"
   ]
  },
  {
   "cell_type": "markdown",
   "metadata": {},
   "source": [
    "### Baseline Model : Logistic Regression .\n",
    "Since the 2-class label is there and logistic regression uses CART approach , it is suitable fit for binary classification of our case."
   ]
  },
  {
   "cell_type": "code",
   "execution_count": 140,
   "metadata": {},
   "outputs": [
    {
     "data": {
      "text/plain": [
       "LogisticRegression()"
      ]
     },
     "execution_count": 140,
     "metadata": {},
     "output_type": "execute_result"
    }
   ],
   "source": [
    "classifier = LogisticRegression()\n",
    "classifier.fit(train_data, y_train)"
   ]
  },
  {
   "cell_type": "markdown",
   "metadata": {},
   "source": [
    "### Evaluation of Model"
   ]
  },
  {
   "cell_type": "code",
   "execution_count": 142,
   "metadata": {},
   "outputs": [
    {
     "name": "stdout",
     "output_type": "stream",
     "text": [
      "Accuracy: 0.9528036371508984\n"
     ]
    }
   ],
   "source": [
    "accuracy = classifier.score(test_data, y_test)\n",
    "print('Accuracy:', accuracy)"
   ]
  },
  {
   "cell_type": "code",
   "execution_count": 190,
   "metadata": {},
   "outputs": [],
   "source": [
    "X_pred = classifier.predict(train_data)\n",
    "y_pred = classifier.predict(test_data)\n"
   ]
  },
  {
   "cell_type": "code",
   "execution_count": 194,
   "metadata": {},
   "outputs": [
    {
     "name": "stdout",
     "output_type": "stream",
     "text": [
      "              precision    recall  f1-score   support\n",
      "\n",
      "           0       0.98      0.99      0.99      6138\n",
      "           1       0.99      0.97      0.98      4639\n",
      "\n",
      "    accuracy                           0.98     10777\n",
      "   macro avg       0.98      0.98      0.98     10777\n",
      "weighted avg       0.98      0.98      0.98     10777\n",
      "\n"
     ]
    }
   ],
   "source": [
    "print(classification_report(y_train, X_pred))\n",
    "# Confusion matrix F1 score , precision and Recall "
   ]
  },
  {
   "cell_type": "markdown",
   "metadata": {},
   "source": [
    "### We can see that model is able to identify and detect correct labels with great precision and recall."
   ]
  },
  {
   "cell_type": "code",
   "execution_count": 205,
   "metadata": {},
   "outputs": [
    {
     "data": {
      "image/png": "[encoded data removed]",
      "text/plain": [
       "<Figure size 432x288 with 1 Axes>"
      ]
     },
     "metadata": {
      "needs_background": "light"
     },
     "output_type": "display_data"
    }
   ],
   "source": [
    "\n",
    "classifier.fit(train_data, y_train)\n",
    "\n",
    "#AUC Curve\n",
    "y_pred_proba = classifier.predict_proba(test_data)[::,1]\n",
    "fpr, tpr, threshold = metrics.roc_curve(y_test,  y_pred_proba)\n",
    "auc = metrics.roc_auc_score(y_test, y_pred_proba)\n",
    "plt.plot(fpr,tpr,color='r',label=\"ROC\")\n",
    "plt.plot([0,1],[0,1],color='b',linestyle='--')\n",
    "\n",
    "plt.legend(loc=4)\n",
    "plt.title('ROC curve for evaluation')\n",
    "plt.show()"
   ]
  },
  {
   "cell_type": "markdown",
   "metadata": {},
   "source": [
    "### ROC curve show that AUC value is high which tells us model is able to distinguish between negative and positive data set properly."
   ]
  },
  {
   "cell_type": "markdown",
   "metadata": {},
   "source": [
    "### Testing with Raw data"
   ]
  },
  {
   "cell_type": "code",
   "execution_count": 146,
   "metadata": {},
   "outputs": [
    {
     "data": {
      "text/plain": [
       "array([0, 1, 1, 0], dtype=int64)"
      ]
     },
     "execution_count": 146,
     "metadata": {},
     "output_type": "execute_result"
    }
   ],
   "source": [
    "new_reviews = ['useless fellow', 'good effort', 'happy service','a very bad service']\n",
    "X_new = vectorizer.transform(new_reviews)\n",
    "classifier.predict(X_new)"
   ]
  },
  {
   "cell_type": "markdown",
   "metadata": {},
   "source": [
    "### Above experiment shows us that model is able to work properly on unseen data  too."
   ]
  },
  {
   "cell_type": "markdown",
   "metadata": {},
   "source": [
    "### Extra models \n"
   ]
  },
  {
   "cell_type": "code",
   "execution_count": 210,
   "metadata": {},
   "outputs": [],
   "source": [
    "def get_models_comparison(X= train_data,y=y_train,test_data=test_data):\n",
    "                   \n",
    "    models = []\n",
    "    random_st=0\n",
    "    models.append(('Random Forest Classifier',RandomForestClassifier()))\n",
    "    models.append(('K-neighbors:', KNeighborsClassifier()))\n",
    "    models.append(('Decision Tree:', DecisionTreeClassifier()))\n",
    "    results = []\n",
    "    names = []\n",
    "    x=0\n",
    "    c=0\n",
    "    for name, model in models:\n",
    "        warnings.simplefilter(\"ignore\")\n",
    "        c=0\n",
    "        model.fit(X, y)\n",
    "        names.append(name)\n",
    "        X_pred = model.predict(X)\n",
    "        y_pred = model.predict(test_data)\n",
    "        print(name)\n",
    "        print(classification_report(y, X_pred))\n",
    "        print('------------')\n"
   ]
  },
  {
   "cell_type": "code",
   "execution_count": 211,
   "metadata": {},
   "outputs": [
    {
     "name": "stdout",
     "output_type": "stream",
     "text": [
      "Random Forest Classifier\n",
      "              precision    recall  f1-score   support\n",
      "\n",
      "           0       1.00      1.00      1.00      6138\n",
      "           1       1.00      1.00      1.00      4639\n",
      "\n",
      "    accuracy                           1.00     10777\n",
      "   macro avg       1.00      1.00      1.00     10777\n",
      "weighted avg       1.00      1.00      1.00     10777\n",
      "\n",
      "------------\n",
      "K-neighbors:\n",
      "              precision    recall  f1-score   support\n",
      "\n",
      "           0       0.94      0.96      0.95      6138\n",
      "           1       0.94      0.91      0.93      4639\n",
      "\n",
      "    accuracy                           0.94     10777\n",
      "   macro avg       0.94      0.94      0.94     10777\n",
      "weighted avg       0.94      0.94      0.94     10777\n",
      "\n",
      "------------\n",
      "Decision Tree:\n",
      "              precision    recall  f1-score   support\n",
      "\n",
      "           0       1.00      1.00      1.00      6138\n",
      "           1       1.00      1.00      1.00      4639\n",
      "\n",
      "    accuracy                           1.00     10777\n",
      "   macro avg       1.00      1.00      1.00     10777\n",
      "weighted avg       1.00      1.00      1.00     10777\n",
      "\n",
      "------------\n"
     ]
    }
   ],
   "source": [
    "get_models_comparison()"
   ]
  },
  {
   "cell_type": "markdown",
   "metadata": {},
   "source": [
    "#_______________________________________END_______________________________________________"
   ]
  }
 ],
 "metadata": {
  "kernelspec": {
   "display_name": "Python 3",
   "language": "python",
   "name": "python3"
  },
  "language_info": {
   "codemirror_mode": {
    "name": "ipython",
    "version": 3
   },
   "file_extension": ".py",
   "mimetype": "text/x-python",
   "name": "python",
   "nbconvert_exporter": "python",
   "pygments_lexer": "ipython3",
   "version": "3.8.3"
  }
 },
 "nbformat": 4,
 "nbformat_minor": 2
}
